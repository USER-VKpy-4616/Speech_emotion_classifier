{
 "cells": [
  {
   "cell_type": "code",
   "execution_count": 1,
   "id": "3d0493a2-d898-4e05-87db-6ad03d9c4c0b",
   "metadata": {},
   "outputs": [],
   "source": [
    "import os\n",
    "import librosa\n",
    "import numpy as np\n",
    "import pandas as pd\n",
    "import matplotlib.pyplot as plt\n",
    "from tqdm import tqdm"
   ]
  },
  {
   "cell_type": "code",
   "execution_count": 2,
   "id": "5012f5c4-1ec0-4530-bf7f-c37e708d0f4a",
   "metadata": {},
   "outputs": [],
   "source": [
    "import librosa\n",
    "from tqdm.notebook import tqdm \n",
    "from sklearn.preprocessing import LabelEncoder"
   ]
  },
  {
   "cell_type": "code",
   "execution_count": 58,
   "id": "8a7eb1df-3c52-47ae-9c53-2bc062dc5878",
   "metadata": {},
   "outputs": [],
   "source": [
    "from sklearn.metrics import classification_report, confusion_matrix, ConfusionMatrixDisplay\n",
    "import tensorflow as tf"
   ]
  },
  {
   "cell_type": "code",
   "execution_count": 4,
   "id": "aff9f378-d5c6-4ae5-abd3-d6e410ab9b9c",
   "metadata": {},
   "outputs": [
    {
     "name": "stdout",
     "output_type": "stream",
     "text": [
      "Total speech files: 1440\n"
     ]
    }
   ],
   "source": [
    "speech_path = 'Audio_Speech_Actors'\n",
    "song_path = 'Audio_Song_Actors'  \n",
    "\n",
    "audio_files_speech = []\n",
    "for root, _, files in os.walk(speech_path):\n",
    "    for file in files:\n",
    "        if file.endswith(\".wav\"):\n",
    "            audio_files_speech.append(os.path.join(root, file))\n",
    "\n",
    "print(f\"Total speech files: {len(audio_files_speech)}\")"
   ]
  },
  {
   "cell_type": "code",
   "execution_count": 5,
   "id": "440e7383-b38d-47ee-9eff-8fa0fb6eb714",
   "metadata": {},
   "outputs": [
    {
     "name": "stdout",
     "output_type": "stream",
     "text": [
      "Total song files: 1012\n"
     ]
    }
   ],
   "source": [
    "audio_files_song = []\n",
    "\n",
    "for root, _, files in os.walk(song_path):\n",
    "    for file in files:\n",
    "        if file.endswith(\".wav\"):\n",
    "            audio_files_song.append(os.path.join(root, file))\n",
    "\n",
    "print(f\"Total song files: {len(audio_files_song)}\")"
   ]
  },
  {
   "cell_type": "code",
   "execution_count": 6,
   "id": "eeb2bdd2-ef70-45b9-aa30-e05fcdf7f767",
   "metadata": {},
   "outputs": [
    {
     "name": "stdout",
     "output_type": "stream",
     "text": [
      "2452\n"
     ]
    }
   ],
   "source": [
    "audio_files=audio_files_speech+audio_files_song\n",
    "print(len(audio_files))"
   ]
  },
  {
   "cell_type": "code",
   "execution_count": 7,
   "id": "058c0e9f-ffec-4928-be36-ef914c63529c",
   "metadata": {},
   "outputs": [],
   "source": [
    "emotion_map = {\n",
    "    '01': 'neutral',\n",
    "    '02': 'calm',\n",
    "    '03': 'happy',\n",
    "    '04': 'sad',\n",
    "    '05': 'angry',\n",
    "    '06': 'fearful',\n",
    "    '07': 'disgust',\n",
    "    '08': 'surprised'\n",
    "}"
   ]
  },
  {
   "cell_type": "code",
   "execution_count": 8,
   "id": "e347d50f-fc12-4d65-9738-826175f9191d",
   "metadata": {},
   "outputs": [],
   "source": [
    "def extract_emotion(filename):\n",
    "    parts = filename.split('-')\n",
    "    emotion_code = parts[2]\n",
    "    return emotion_map.get(emotion_code, \"unknown\")"
   ]
  },
  {
   "cell_type": "code",
   "execution_count": 9,
   "id": "cf83dac0-237f-4806-8bfc-62f80b8daa30",
   "metadata": {},
   "outputs": [
    {
     "name": "stdout",
     "output_type": "stream",
     "text": [
      "emotion\n",
      "calm         376\n",
      "happy        376\n",
      "sad          376\n",
      "angry        376\n",
      "fearful      376\n",
      "disgust      192\n",
      "surprised    192\n",
      "neutral      188\n",
      "Name: count, dtype: int64\n"
     ]
    },
    {
     "data": {
      "text/html": [
       "<div>\n",
       "<style scoped>\n",
       "    .dataframe tbody tr th:only-of-type {\n",
       "        vertical-align: middle;\n",
       "    }\n",
       "\n",
       "    .dataframe tbody tr th {\n",
       "        vertical-align: top;\n",
       "    }\n",
       "\n",
       "    .dataframe thead th {\n",
       "        text-align: right;\n",
       "    }\n",
       "</style>\n",
       "<table border=\"1\" class=\"dataframe\">\n",
       "  <thead>\n",
       "    <tr style=\"text-align: right;\">\n",
       "      <th></th>\n",
       "      <th>path</th>\n",
       "      <th>filename</th>\n",
       "      <th>emotion</th>\n",
       "    </tr>\n",
       "  </thead>\n",
       "  <tbody>\n",
       "    <tr>\n",
       "      <th>0</th>\n",
       "      <td>Audio_Speech_Actors\\Actor_01\\03-01-01-01-01-01...</td>\n",
       "      <td>03-01-01-01-01-01-01.wav</td>\n",
       "      <td>neutral</td>\n",
       "    </tr>\n",
       "    <tr>\n",
       "      <th>1</th>\n",
       "      <td>Audio_Speech_Actors\\Actor_01\\03-01-01-01-01-02...</td>\n",
       "      <td>03-01-01-01-01-02-01.wav</td>\n",
       "      <td>neutral</td>\n",
       "    </tr>\n",
       "    <tr>\n",
       "      <th>2</th>\n",
       "      <td>Audio_Speech_Actors\\Actor_01\\03-01-01-01-02-01...</td>\n",
       "      <td>03-01-01-01-02-01-01.wav</td>\n",
       "      <td>neutral</td>\n",
       "    </tr>\n",
       "    <tr>\n",
       "      <th>3</th>\n",
       "      <td>Audio_Speech_Actors\\Actor_01\\03-01-01-01-02-02...</td>\n",
       "      <td>03-01-01-01-02-02-01.wav</td>\n",
       "      <td>neutral</td>\n",
       "    </tr>\n",
       "    <tr>\n",
       "      <th>4</th>\n",
       "      <td>Audio_Speech_Actors\\Actor_01\\03-01-02-01-01-01...</td>\n",
       "      <td>03-01-02-01-01-01-01.wav</td>\n",
       "      <td>calm</td>\n",
       "    </tr>\n",
       "  </tbody>\n",
       "</table>\n",
       "</div>"
      ],
      "text/plain": [
       "                                                path  \\\n",
       "0  Audio_Speech_Actors\\Actor_01\\03-01-01-01-01-01...   \n",
       "1  Audio_Speech_Actors\\Actor_01\\03-01-01-01-01-02...   \n",
       "2  Audio_Speech_Actors\\Actor_01\\03-01-01-01-02-01...   \n",
       "3  Audio_Speech_Actors\\Actor_01\\03-01-01-01-02-02...   \n",
       "4  Audio_Speech_Actors\\Actor_01\\03-01-02-01-01-01...   \n",
       "\n",
       "                   filename  emotion  \n",
       "0  03-01-01-01-01-01-01.wav  neutral  \n",
       "1  03-01-01-01-01-02-01.wav  neutral  \n",
       "2  03-01-01-01-02-01-01.wav  neutral  \n",
       "3  03-01-01-01-02-02-01.wav  neutral  \n",
       "4  03-01-02-01-01-01-01.wav     calm  "
      ]
     },
     "execution_count": 9,
     "metadata": {},
     "output_type": "execute_result"
    }
   ],
   "source": [
    "df = pd.DataFrame(audio_files, columns=['path'])\n",
    "df['filename'] = df['path'].apply(lambda x: os.path.basename(x))\n",
    "df['emotion'] = df['filename'].apply(extract_emotion)\n",
    "\n",
    "print(df['emotion'].value_counts())\n",
    "df.head()"
   ]
  },
  {
   "cell_type": "code",
   "execution_count": 10,
   "id": "8cf1bec5-7206-49db-8dd6-7826ba9a63d4",
   "metadata": {},
   "outputs": [
    {
     "name": "stdout",
     "output_type": "stream",
     "text": [
      "Train size: 1961 | Validation size: 491\n"
     ]
    }
   ],
   "source": [
    "from sklearn.model_selection import train_test_split\n",
    "\n",
    "train_df, val_df = train_test_split(\n",
    "    df,\n",
    "    test_size=0.2,\n",
    "    stratify=df['emotion'],\n",
    "    random_state=42\n",
    ")\n",
    "\n",
    "print(f\"Train size: {len(train_df)} | Validation size: {len(val_df)}\")"
   ]
  },
  {
   "cell_type": "code",
   "execution_count": 12,
   "id": "72a68cef-8d71-488a-825c-a1db4bf80fee",
   "metadata": {},
   "outputs": [],
   "source": [
    "def extract_features(file_path, sr=22050, duration=3, n_mfcc=40):\n",
    "    try:\n",
    "        audio, _ = librosa.load(file_path, sr=sr, duration=duration, res_type='kaiser_fast')\n",
    "        \n",
    "        if len(audio) < sr * duration:\n",
    "            pad_width = sr * duration - len(audio)\n",
    "            audio = np.pad(audio, (0, pad_width))\n",
    "\n",
    "        mfccs = librosa.feature.mfcc(y=audio, sr=sr, n_mfcc=n_mfcc)\n",
    "        mfccs = np.mean(mfccs.T, axis=0)  \n",
    "\n",
    "        return mfccs\n",
    "    except Exception as e:\n",
    "        print(f\"Error processing {file_path}: {e}\")\n",
    "        return np.zeros(n_mfcc)"
   ]
  },
  {
   "cell_type": "code",
   "execution_count": 13,
   "id": "d9f3720a-9bff-4e28-8434-51b2d0533c8d",
   "metadata": {},
   "outputs": [],
   "source": [
    "def build_feature_dataset(df):\n",
    "    features = []\n",
    "    labels = []\n",
    "\n",
    "    for i, row in tqdm(df.iterrows(), total=len(df)):\n",
    "        mfcc_feat = extract_features(row['path'])  \n",
    "        features.append(mfcc_feat)\n",
    "        labels.append(row['emotion'])              \n",
    "\n",
    "    return np.array(features), np.array(labels)"
   ]
  },
  {
   "cell_type": "code",
   "execution_count": 16,
   "id": "f3ccd06e-081c-4869-beef-17c47f2ba9e0",
   "metadata": {},
   "outputs": [
    {
     "name": "stdout",
     "output_type": "stream",
     "text": [
      "Collecting resampy\n",
      "  Downloading resampy-0.4.3-py3-none-any.whl.metadata (3.0 kB)\n",
      "Requirement already satisfied: numpy>=1.17 in c:\\softwares\\python 3.8\\lib\\site-packages (from resampy) (1.24.3)\n",
      "Requirement already satisfied: numba>=0.53 in c:\\softwares\\python 3.8\\lib\\site-packages (from resampy) (0.58.1)\n",
      "Requirement already satisfied: importlib-resources in c:\\softwares\\python 3.8\\lib\\site-packages (from resampy) (6.1.0)\n",
      "Requirement already satisfied: llvmlite<0.42,>=0.41.0dev0 in c:\\softwares\\python 3.8\\lib\\site-packages (from numba>=0.53->resampy) (0.41.1)\n",
      "Requirement already satisfied: importlib-metadata in c:\\softwares\\python 3.8\\lib\\site-packages (from numba>=0.53->resampy) (6.8.0)\n",
      "Requirement already satisfied: zipp>=3.1.0 in c:\\softwares\\python 3.8\\lib\\site-packages (from importlib-resources->resampy) (3.17.0)\n",
      "Downloading resampy-0.4.3-py3-none-any.whl (3.1 MB)\n",
      "   ---------------------------------------- 0.0/3.1 MB ? eta -:--:--\n",
      "   ---------------------------------------- 0.0/3.1 MB ? eta -:--:--\n",
      "   ---------------------------------------- 0.0/3.1 MB ? eta -:--:--\n",
      "   ---------------------------------------- 0.0/3.1 MB ? eta -:--:--\n",
      "   --- ------------------------------------ 0.3/3.1 MB ? eta -:--:--\n",
      "   --- ------------------------------------ 0.3/3.1 MB ? eta -:--:--\n",
      "   --- ------------------------------------ 0.3/3.1 MB ? eta -:--:--\n",
      "   --- ------------------------------------ 0.3/3.1 MB ? eta -:--:--\n",
      "   ------ --------------------------------- 0.5/3.1 MB 357.1 kB/s eta 0:00:08\n",
      "   ------ --------------------------------- 0.5/3.1 MB 357.1 kB/s eta 0:00:08\n",
      "   ------ --------------------------------- 0.5/3.1 MB 357.1 kB/s eta 0:00:08\n",
      "   ------ --------------------------------- 0.5/3.1 MB 357.1 kB/s eta 0:00:08\n",
      "   ---------- ----------------------------- 0.8/3.1 MB 335.4 kB/s eta 0:00:07\n",
      "   ---------- ----------------------------- 0.8/3.1 MB 335.4 kB/s eta 0:00:07\n",
      "   ------------- -------------------------- 1.0/3.1 MB 375.6 kB/s eta 0:00:06\n",
      "   ------------- -------------------------- 1.0/3.1 MB 375.6 kB/s eta 0:00:06\n",
      "   ------------- -------------------------- 1.0/3.1 MB 375.6 kB/s eta 0:00:06\n",
      "   ------------- -------------------------- 1.0/3.1 MB 375.6 kB/s eta 0:00:06\n",
      "   ----------------- ---------------------- 1.3/3.1 MB 358.9 kB/s eta 0:00:05\n",
      "   ----------------- ---------------------- 1.3/3.1 MB 358.9 kB/s eta 0:00:05\n",
      "   ----------------- ---------------------- 1.3/3.1 MB 358.9 kB/s eta 0:00:05\n",
      "   -------------------- ------------------- 1.6/3.1 MB 364.7 kB/s eta 0:00:05\n",
      "   -------------------- ------------------- 1.6/3.1 MB 364.7 kB/s eta 0:00:05\n",
      "   -------------------- ------------------- 1.6/3.1 MB 364.7 kB/s eta 0:00:05\n",
      "   -------------------- ------------------- 1.6/3.1 MB 364.7 kB/s eta 0:00:05\n",
      "   -------------------- ------------------- 1.6/3.1 MB 364.7 kB/s eta 0:00:05\n",
      "   -------------------- ------------------- 1.6/3.1 MB 364.7 kB/s eta 0:00:05\n",
      "   ----------------------- ---------------- 1.8/3.1 MB 318.5 kB/s eta 0:00:04\n",
      "   ----------------------- ---------------- 1.8/3.1 MB 318.5 kB/s eta 0:00:04\n",
      "   ----------------------- ---------------- 1.8/3.1 MB 318.5 kB/s eta 0:00:04\n",
      "   ----------------------- ---------------- 1.8/3.1 MB 318.5 kB/s eta 0:00:04\n",
      "   --------------------------- ------------ 2.1/3.1 MB 323.5 kB/s eta 0:00:04\n",
      "   --------------------------- ------------ 2.1/3.1 MB 323.5 kB/s eta 0:00:04\n",
      "   --------------------------- ------------ 2.1/3.1 MB 323.5 kB/s eta 0:00:04\n",
      "   --------------------------- ------------ 2.1/3.1 MB 323.5 kB/s eta 0:00:04\n",
      "   --------------------------- ------------ 2.1/3.1 MB 323.5 kB/s eta 0:00:04\n",
      "   --------------------------- ------------ 2.1/3.1 MB 323.5 kB/s eta 0:00:04\n",
      "   --------------------------- ------------ 2.1/3.1 MB 323.5 kB/s eta 0:00:04\n",
      "   --------------------------- ------------ 2.1/3.1 MB 323.5 kB/s eta 0:00:04\n",
      "   --------------------------- ------------ 2.1/3.1 MB 323.5 kB/s eta 0:00:04\n",
      "   --------------------------- ------------ 2.1/3.1 MB 323.5 kB/s eta 0:00:04\n",
      "   --------------------------- ------------ 2.1/3.1 MB 323.5 kB/s eta 0:00:04\n",
      "   --------------------------- ------------ 2.1/3.1 MB 323.5 kB/s eta 0:00:04\n",
      "   --------------------------- ------------ 2.1/3.1 MB 323.5 kB/s eta 0:00:04\n",
      "   --------------------------- ------------ 2.1/3.1 MB 323.5 kB/s eta 0:00:04\n",
      "   --------------------------- ------------ 2.1/3.1 MB 323.5 kB/s eta 0:00:04\n",
      "   ------------------------------ --------- 2.4/3.1 MB 235.9 kB/s eta 0:00:04\n",
      "   ------------------------------ --------- 2.4/3.1 MB 235.9 kB/s eta 0:00:04\n",
      "   ------------------------------ --------- 2.4/3.1 MB 235.9 kB/s eta 0:00:04\n",
      "   ---------------------------------- ----- 2.6/3.1 MB 247.5 kB/s eta 0:00:02\n",
      "   ---------------------------------- ----- 2.6/3.1 MB 247.5 kB/s eta 0:00:02\n",
      "   ---------------------------------- ----- 2.6/3.1 MB 247.5 kB/s eta 0:00:02\n",
      "   ------------------------------------- -- 2.9/3.1 MB 260.1 kB/s eta 0:00:01\n",
      "   ---------------------------------------- 3.1/3.1 MB 270.8 kB/s eta 0:00:00\n",
      "Installing collected packages: resampy\n",
      "Successfully installed resampy-0.4.3\n",
      "Note: you may need to restart the kernel to use updated packages.\n"
     ]
    },
    {
     "name": "stderr",
     "output_type": "stream",
     "text": [
      "WARNING: Ignoring invalid distribution -orch (c:\\softwares\\python 3.8\\lib\\site-packages)\n",
      "WARNING: Ignoring invalid distribution -orch (c:\\softwares\\python 3.8\\lib\\site-packages)\n",
      "WARNING: Ignoring invalid distribution -orch (c:\\softwares\\python 3.8\\lib\\site-packages)\n",
      "\n",
      "[notice] A new release of pip is available: 24.2 -> 25.0.1\n",
      "[notice] To update, run: python.exe -m pip install --upgrade pip\n"
     ]
    }
   ],
   "source": [
    "pip install resampy"
   ]
  },
  {
   "cell_type": "code",
   "execution_count": 14,
   "id": "197b6bc1-674e-4f34-b78e-1229c1b30eec",
   "metadata": {},
   "outputs": [
    {
     "data": {
      "application/vnd.jupyter.widget-view+json": {
       "model_id": "ef6e662a532e4dbcaa3603472bff9578",
       "version_major": 2,
       "version_minor": 0
      },
      "text/plain": [
       "  0%|          | 0/1961 [00:00<?, ?it/s]"
      ]
     },
     "metadata": {},
     "output_type": "display_data"
    },
    {
     "data": {
      "application/vnd.jupyter.widget-view+json": {
       "model_id": "889d7b6252914228ae9ff42cca39415c",
       "version_major": 2,
       "version_minor": 0
      },
      "text/plain": [
       "  0%|          | 0/491 [00:00<?, ?it/s]"
      ]
     },
     "metadata": {},
     "output_type": "display_data"
    }
   ],
   "source": [
    "X_train, y_train = build_feature_dataset(train_df)\n",
    "X_val, y_val = build_feature_dataset(val_df)"
   ]
  },
  {
   "cell_type": "code",
   "execution_count": 15,
   "id": "5d197906-9f83-497a-9b79-4f2067965ff0",
   "metadata": {},
   "outputs": [],
   "source": [
    "from sklearn.preprocessing import LabelEncoder\n",
    "\n",
    "le = LabelEncoder()\n",
    "y_train_encoded = le.fit_transform(y_train)\n",
    "y_val_encoded = le.transform(y_val)\n",
    "\n",
    "# Save for inverse transform later\n",
    "emotion_classes = le.classes_"
   ]
  },
  {
   "cell_type": "code",
   "execution_count": 16,
   "id": "5c71873f-aeb5-40c4-8177-d4fbb3786e48",
   "metadata": {},
   "outputs": [
    {
     "name": "stdout",
     "output_type": "stream",
     "text": [
      "Epoch 1/50\n",
      "62/62 [==============================] - 3s 15ms/step - loss: 24.1469 - accuracy: 0.1372 - val_loss: 2.0772 - val_accuracy: 0.1527\n",
      "Epoch 2/50\n",
      "62/62 [==============================] - 0s 7ms/step - loss: 2.5041 - accuracy: 0.1407 - val_loss: 2.0703 - val_accuracy: 0.1527\n",
      "Epoch 3/50\n",
      "62/62 [==============================] - 0s 7ms/step - loss: 2.1896 - accuracy: 0.1540 - val_loss: 2.0640 - val_accuracy: 0.1527\n",
      "Epoch 4/50\n",
      "62/62 [==============================] - 0s 8ms/step - loss: 2.1094 - accuracy: 0.1443 - val_loss: 2.0586 - val_accuracy: 0.1527\n",
      "Epoch 5/50\n",
      "62/62 [==============================] - 1s 8ms/step - loss: 2.1065 - accuracy: 0.1525 - val_loss: 2.0543 - val_accuracy: 0.1527\n",
      "Epoch 6/50\n",
      "62/62 [==============================] - 0s 8ms/step - loss: 2.0703 - accuracy: 0.1591 - val_loss: 2.0508 - val_accuracy: 0.1527\n",
      "Epoch 7/50\n",
      "62/62 [==============================] - 0s 8ms/step - loss: 2.0778 - accuracy: 0.1530 - val_loss: 2.0475 - val_accuracy: 0.1527\n",
      "Epoch 8/50\n",
      "62/62 [==============================] - 0s 8ms/step - loss: 2.0583 - accuracy: 0.1418 - val_loss: 2.0453 - val_accuracy: 0.1527\n",
      "Epoch 9/50\n",
      "62/62 [==============================] - 1s 8ms/step - loss: 2.0551 - accuracy: 0.1489 - val_loss: 2.0433 - val_accuracy: 0.1527\n",
      "Epoch 10/50\n",
      "62/62 [==============================] - 0s 8ms/step - loss: 2.0533 - accuracy: 0.1392 - val_loss: 2.0417 - val_accuracy: 0.1527\n",
      "Epoch 11/50\n",
      "62/62 [==============================] - 0s 7ms/step - loss: 2.0463 - accuracy: 0.1540 - val_loss: 2.0404 - val_accuracy: 0.1527\n",
      "Epoch 12/50\n",
      "62/62 [==============================] - 1s 8ms/step - loss: 2.0467 - accuracy: 0.1530 - val_loss: 2.0393 - val_accuracy: 0.1527\n",
      "Epoch 13/50\n",
      "62/62 [==============================] - 1s 8ms/step - loss: 2.0429 - accuracy: 0.1555 - val_loss: 2.0386 - val_accuracy: 0.1527\n",
      "Epoch 14/50\n",
      "62/62 [==============================] - 0s 8ms/step - loss: 2.0430 - accuracy: 0.1555 - val_loss: 2.0379 - val_accuracy: 0.1527\n",
      "Epoch 15/50\n",
      "62/62 [==============================] - 0s 7ms/step - loss: 2.0431 - accuracy: 0.1530 - val_loss: 2.0374 - val_accuracy: 0.1527\n",
      "Epoch 16/50\n",
      "62/62 [==============================] - 0s 7ms/step - loss: 2.0422 - accuracy: 0.1545 - val_loss: 2.0370 - val_accuracy: 0.1527\n",
      "Epoch 17/50\n",
      "62/62 [==============================] - 0s 7ms/step - loss: 2.0447 - accuracy: 0.1448 - val_loss: 2.0366 - val_accuracy: 0.1527\n",
      "Epoch 18/50\n",
      "62/62 [==============================] - 0s 7ms/step - loss: 2.0362 - accuracy: 0.1540 - val_loss: 2.0363 - val_accuracy: 0.1527\n",
      "Epoch 19/50\n",
      "62/62 [==============================] - 0s 7ms/step - loss: 2.0408 - accuracy: 0.1515 - val_loss: 2.0361 - val_accuracy: 0.1527\n",
      "Epoch 20/50\n",
      "62/62 [==============================] - 0s 8ms/step - loss: 2.0447 - accuracy: 0.1545 - val_loss: 2.0360 - val_accuracy: 0.1527\n",
      "Epoch 21/50\n",
      "62/62 [==============================] - 0s 7ms/step - loss: 2.0376 - accuracy: 0.1525 - val_loss: 2.0358 - val_accuracy: 0.1527\n",
      "Epoch 22/50\n",
      "62/62 [==============================] - 0s 7ms/step - loss: 2.0339 - accuracy: 0.1550 - val_loss: 2.0357 - val_accuracy: 0.1527\n",
      "Epoch 23/50\n",
      "62/62 [==============================] - 0s 8ms/step - loss: 2.0408 - accuracy: 0.1387 - val_loss: 2.0357 - val_accuracy: 0.1527\n",
      "Epoch 24/50\n",
      "62/62 [==============================] - 0s 7ms/step - loss: 2.0504 - accuracy: 0.1423 - val_loss: 2.0356 - val_accuracy: 0.1527\n",
      "Epoch 25/50\n",
      "62/62 [==============================] - 1s 8ms/step - loss: 2.0329 - accuracy: 0.1341 - val_loss: 2.0356 - val_accuracy: 0.1527\n",
      "Epoch 26/50\n",
      "62/62 [==============================] - 0s 7ms/step - loss: 2.0348 - accuracy: 0.1504 - val_loss: 2.0355 - val_accuracy: 0.1527\n",
      "Epoch 27/50\n",
      "62/62 [==============================] - 0s 8ms/step - loss: 2.0360 - accuracy: 0.1392 - val_loss: 2.0355 - val_accuracy: 0.1527\n",
      "Epoch 28/50\n",
      "62/62 [==============================] - 1s 8ms/step - loss: 2.0358 - accuracy: 0.1550 - val_loss: 2.0355 - val_accuracy: 0.1527\n",
      "Epoch 29/50\n",
      "62/62 [==============================] - 1s 8ms/step - loss: 2.0348 - accuracy: 0.1448 - val_loss: 2.0355 - val_accuracy: 0.1527\n",
      "Epoch 30/50\n",
      "62/62 [==============================] - 0s 8ms/step - loss: 2.0353 - accuracy: 0.1540 - val_loss: 2.0355 - val_accuracy: 0.1527\n",
      "Epoch 31/50\n",
      "62/62 [==============================] - 0s 8ms/step - loss: 2.0372 - accuracy: 0.1448 - val_loss: 2.0355 - val_accuracy: 0.1527\n",
      "Epoch 32/50\n",
      "62/62 [==============================] - 0s 8ms/step - loss: 2.0332 - accuracy: 0.1402 - val_loss: 2.0355 - val_accuracy: 0.1527\n",
      "Epoch 33/50\n",
      "62/62 [==============================] - 0s 8ms/step - loss: 2.0364 - accuracy: 0.1423 - val_loss: 2.0355 - val_accuracy: 0.1527\n",
      "Epoch 34/50\n",
      "62/62 [==============================] - 1s 9ms/step - loss: 2.0353 - accuracy: 0.1382 - val_loss: 2.0355 - val_accuracy: 0.1527\n",
      "Epoch 35/50\n",
      "62/62 [==============================] - 0s 8ms/step - loss: 2.0361 - accuracy: 0.1494 - val_loss: 2.0355 - val_accuracy: 0.1527\n",
      "Epoch 36/50\n",
      "62/62 [==============================] - 0s 8ms/step - loss: 2.0345 - accuracy: 0.1367 - val_loss: 2.0355 - val_accuracy: 0.1527\n",
      "Epoch 37/50\n",
      "62/62 [==============================] - 0s 7ms/step - loss: 2.0335 - accuracy: 0.1351 - val_loss: 2.0355 - val_accuracy: 0.1527\n",
      "Epoch 38/50\n",
      "62/62 [==============================] - 1s 8ms/step - loss: 2.0376 - accuracy: 0.1407 - val_loss: 2.0355 - val_accuracy: 0.1527\n",
      "Epoch 39/50\n",
      "62/62 [==============================] - 0s 6ms/step - loss: 2.0331 - accuracy: 0.1499 - val_loss: 2.0355 - val_accuracy: 0.1527\n",
      "Epoch 40/50\n",
      "62/62 [==============================] - 0s 7ms/step - loss: 2.0344 - accuracy: 0.1535 - val_loss: 2.0355 - val_accuracy: 0.1527\n",
      "Epoch 41/50\n",
      "62/62 [==============================] - 0s 7ms/step - loss: 2.0353 - accuracy: 0.1443 - val_loss: 2.0355 - val_accuracy: 0.1527\n",
      "Epoch 42/50\n",
      "62/62 [==============================] - 0s 7ms/step - loss: 2.0336 - accuracy: 0.1392 - val_loss: 2.0355 - val_accuracy: 0.1527\n",
      "Epoch 43/50\n",
      "62/62 [==============================] - 0s 7ms/step - loss: 2.0326 - accuracy: 0.1509 - val_loss: 2.0355 - val_accuracy: 0.1527\n",
      "Epoch 44/50\n",
      "62/62 [==============================] - 0s 7ms/step - loss: 2.0333 - accuracy: 0.1474 - val_loss: 2.0355 - val_accuracy: 0.1527\n",
      "Epoch 45/50\n",
      "62/62 [==============================] - 0s 7ms/step - loss: 2.0357 - accuracy: 0.1469 - val_loss: 2.0355 - val_accuracy: 0.1527\n",
      "Epoch 46/50\n",
      "62/62 [==============================] - 0s 7ms/step - loss: 2.0328 - accuracy: 0.1464 - val_loss: 2.0355 - val_accuracy: 0.1527\n",
      "Epoch 47/50\n",
      "62/62 [==============================] - 0s 7ms/step - loss: 2.0337 - accuracy: 0.1535 - val_loss: 2.0355 - val_accuracy: 0.1527\n",
      "Epoch 48/50\n",
      "62/62 [==============================] - 0s 8ms/step - loss: 2.0335 - accuracy: 0.1423 - val_loss: 2.0355 - val_accuracy: 0.1527\n",
      "Epoch 49/50\n",
      "62/62 [==============================] - 0s 7ms/step - loss: 2.0352 - accuracy: 0.1387 - val_loss: 2.0355 - val_accuracy: 0.1527\n",
      "Epoch 50/50\n",
      "62/62 [==============================] - 0s 7ms/step - loss: 2.0331 - accuracy: 0.1489 - val_loss: 2.0355 - val_accuracy: 0.1527\n"
     ]
    }
   ],
   "source": [
    "from tensorflow.keras.models import Sequential\n",
    "from tensorflow.keras.layers import Dense, Dropout\n",
    "from tensorflow.keras.utils import to_categorical\n",
    "\n",
    "# One-hot encode labels\n",
    "num_classes = len(np.unique(y_train_encoded))\n",
    "y_train_cat = to_categorical(y_train_encoded, num_classes)\n",
    "y_val_cat = to_categorical(y_val_encoded, num_classes)\n",
    "\n",
    "model = Sequential([\n",
    "    Dense(256, activation='relu', input_shape=(X_train.shape[1],)),\n",
    "    Dropout(0.3),\n",
    "    Dense(128, activation='relu'),\n",
    "    Dropout(0.3),\n",
    "    Dense(num_classes, activation='softmax')\n",
    "])\n",
    "\n",
    "model.compile(loss='categorical_crossentropy', optimizer='adam', metrics=['accuracy'])\n",
    "\n",
    "history = model.fit(\n",
    "    X_train, y_train_cat,\n",
    "    epochs=50,\n",
    "    batch_size=32,\n",
    "    validation_data=(X_val, y_val_cat),\n",
    "    callbacks=[],\n",
    "    verbose=1\n",
    ")\n"
   ]
  },
  {
   "cell_type": "code",
   "execution_count": 17,
   "id": "4c199bf9-4ca8-4a53-b2a3-e77f67481d50",
   "metadata": {},
   "outputs": [
    {
     "name": "stdout",
     "output_type": "stream",
     "text": [
      "16/16 [==============================] - 0s 3ms/step\n",
      "              precision    recall  f1-score   support\n",
      "\n",
      "       angry       0.15      1.00      0.27        75\n",
      "        calm       0.00      0.00      0.00        75\n",
      "     disgust       0.00      0.00      0.00        39\n",
      "     fearful       0.00      0.00      0.00        75\n",
      "       happy       0.00      0.00      0.00        75\n",
      "     neutral       0.00      0.00      0.00        38\n",
      "         sad       0.00      0.00      0.00        75\n",
      "   surprised       0.00      0.00      0.00        39\n",
      "\n",
      "    accuracy                           0.15       491\n",
      "   macro avg       0.02      0.12      0.03       491\n",
      "weighted avg       0.02      0.15      0.04       491\n",
      "\n"
     ]
    },
    {
     "name": "stderr",
     "output_type": "stream",
     "text": [
      "c:\\softwares\\python 3.8\\lib\\site-packages\\sklearn\\metrics\\_classification.py:1471: UndefinedMetricWarning: Precision and F-score are ill-defined and being set to 0.0 in labels with no predicted samples. Use `zero_division` parameter to control this behavior.\n",
      "  _warn_prf(average, modifier, msg_start, len(result))\n",
      "c:\\softwares\\python 3.8\\lib\\site-packages\\sklearn\\metrics\\_classification.py:1471: UndefinedMetricWarning: Precision and F-score are ill-defined and being set to 0.0 in labels with no predicted samples. Use `zero_division` parameter to control this behavior.\n",
      "  _warn_prf(average, modifier, msg_start, len(result))\n",
      "c:\\softwares\\python 3.8\\lib\\site-packages\\sklearn\\metrics\\_classification.py:1471: UndefinedMetricWarning: Precision and F-score are ill-defined and being set to 0.0 in labels with no predicted samples. Use `zero_division` parameter to control this behavior.\n",
      "  _warn_prf(average, modifier, msg_start, len(result))\n"
     ]
    },
    {
     "data": {
      "image/png": "[encoded data removed]",
      "text/plain": [
       "<Figure size 640x480 with 2 Axes>"
      ]
     },
     "metadata": {},
     "output_type": "display_data"
    }
   ],
   "source": [
    "from sklearn.metrics import classification_report, confusion_matrix\n",
    "import seaborn as sns\n",
    "import matplotlib.pyplot as plt\n",
    "\n",
    "y_pred = model.predict(X_val)\n",
    "y_pred_classes = np.argmax(y_pred, axis=1)\n",
    "\n",
    "print(classification_report(y_val_encoded, y_pred_classes, target_names=emotion_classes))\n",
    "\n",
    "cm = confusion_matrix(y_val_encoded, y_pred_classes)\n",
    "\n",
    "sns.heatmap(cm, annot=True, fmt='d', xticklabels=emotion_classes, yticklabels=emotion_classes)\n",
    "plt.xlabel(\"Predicted\")\n",
    "plt.ylabel(\"True\")\n",
    "plt.title(\"Confusion Matrix\")\n",
    "plt.show()\n"
   ]
  },
  {
   "cell_type": "code",
   "execution_count": 18,
   "id": "069d41b2-f675-44f9-aa93-4e98558f8272",
   "metadata": {},
   "outputs": [],
   "source": [
    "from sklearn.preprocessing import StandardScaler\n",
    "\n",
    "scaler = StandardScaler()\n",
    "X_train_scaled = scaler.fit_transform(X_train)\n",
    "X_val_scaled = scaler.transform(X_val)"
   ]
  },
  {
   "cell_type": "code",
   "execution_count": 19,
   "id": "26ab56d5-6a09-40f5-85b9-c0fda2d5958c",
   "metadata": {},
   "outputs": [],
   "source": [
    "def extract_mfcc_2d(file_path, sr=22050, duration=3, n_mfcc=40):\n",
    "    audio, _ = librosa.load(file_path, sr=sr, duration=duration)\n",
    "    \n",
    "    # Pad short clips\n",
    "    if len(audio) < sr * duration:\n",
    "        pad_width = sr * duration - len(audio)\n",
    "        audio = np.pad(audio, (0, pad_width))\n",
    "\n",
    "    mfcc = librosa.feature.mfcc(y=audio, sr=sr, n_mfcc=n_mfcc)\n",
    "    \n",
    "    # Shape: (n_mfcc, time_frames), e.g., (40, 130)\n",
    "    return mfcc"
   ]
  },
  {
   "cell_type": "code",
   "execution_count": 20,
   "id": "5efeae22-5150-425d-8311-db64bb989183",
   "metadata": {},
   "outputs": [],
   "source": [
    "def build_cnn_dataset(df):\n",
    "    features = []\n",
    "    labels = []\n",
    "\n",
    "    for i, row in tqdm(df.iterrows(), total=len(df)):\n",
    "        mfcc = extract_mfcc_2d(row['path'])  # shape (40, ~130)\n",
    "        features.append(mfcc)\n",
    "        labels.append(row['emotion'])\n",
    "\n",
    "    return np.array(features), np.array(labels)"
   ]
  },
  {
   "cell_type": "code",
   "execution_count": 21,
   "id": "04c7a513-7226-4e94-9b5d-b9f4f0c9f8fc",
   "metadata": {},
   "outputs": [
    {
     "data": {
      "application/vnd.jupyter.widget-view+json": {
       "model_id": "8f41482c74f24d14a7ab45c007155949",
       "version_major": 2,
       "version_minor": 0
      },
      "text/plain": [
       "  0%|          | 0/1961 [00:00<?, ?it/s]"
      ]
     },
     "metadata": {},
     "output_type": "display_data"
    },
    {
     "data": {
      "application/vnd.jupyter.widget-view+json": {
       "model_id": "58ce9af8a93b499e916eb5b90d298e08",
       "version_major": 2,
       "version_minor": 0
      },
      "text/plain": [
       "  0%|          | 0/491 [00:00<?, ?it/s]"
      ]
     },
     "metadata": {},
     "output_type": "display_data"
    }
   ],
   "source": [
    "X_train, y_train = build_cnn_dataset(train_df)\n",
    "X_val, y_val = build_cnn_dataset(val_df)"
   ]
  },
  {
   "cell_type": "code",
   "execution_count": 22,
   "id": "b870b2e8-9dd1-4e6c-b0ef-36cd628dacdd",
   "metadata": {},
   "outputs": [],
   "source": [
    "from sklearn.preprocessing import LabelEncoder\n",
    "from tensorflow.keras.utils import to_categorical\n",
    "\n",
    "# Normalize (per sample)\n",
    "X_train = X_train[..., np.newaxis]  # (samples, 40, time_steps, 1)\n",
    "X_val = X_val[..., np.newaxis]\n",
    "\n",
    "le = LabelEncoder()\n",
    "y_train_enc = le.fit_transform(y_train)\n",
    "y_val_enc = le.transform(y_val)\n",
    "\n",
    "y_train_cat = to_categorical(y_train_enc)\n",
    "y_val_cat = to_categorical(y_val_enc)"
   ]
  },
  {
   "cell_type": "code",
   "execution_count": 23,
   "id": "6b5d00c6-6ac9-4909-8f98-5924cdde6f00",
   "metadata": {},
   "outputs": [],
   "source": [
    "from tensorflow.keras.models import Sequential\n",
    "from tensorflow.keras.layers import Conv2D, MaxPooling2D, Flatten, Dense, Dropout, BatchNormalization\n",
    "\n",
    "input_shape = X_train.shape[1:]  # (40, time_steps, 1)\n",
    "\n",
    "model = Sequential([\n",
    "    Conv2D(32, (3, 3), activation='relu', input_shape=input_shape),\n",
    "    BatchNormalization(),\n",
    "    MaxPooling2D((2, 2)),\n",
    "    Dropout(0.3),\n",
    "\n",
    "    Conv2D(64, (3, 3), activation='relu'),\n",
    "    BatchNormalization(),\n",
    "    MaxPooling2D((2, 2)),\n",
    "    Dropout(0.3),\n",
    "\n",
    "    Flatten(),\n",
    "    Dense(128, activation='relu'),\n",
    "    Dropout(0.3),\n",
    "    Dense(len(le.classes_), activation='softmax')\n",
    "])\n"
   ]
  },
  {
   "cell_type": "code",
   "execution_count": 24,
   "id": "e8555c0a-8446-4f13-ac31-f926ce163d60",
   "metadata": {},
   "outputs": [
    {
     "name": "stdout",
     "output_type": "stream",
     "text": [
      "Epoch 1/50\n",
      "62/62 [==============================] - 23s 336ms/step - loss: 3.4664 - accuracy: 0.1805 - val_loss: 1.9932 - val_accuracy: 0.2118\n",
      "Epoch 2/50\n",
      "62/62 [==============================] - 21s 331ms/step - loss: 2.0200 - accuracy: 0.1984 - val_loss: 1.9336 - val_accuracy: 0.2138\n",
      "Epoch 3/50\n",
      "62/62 [==============================] - 21s 335ms/step - loss: 1.9638 - accuracy: 0.2213 - val_loss: 1.9028 - val_accuracy: 0.2077\n",
      "Epoch 4/50\n",
      "62/62 [==============================] - 21s 332ms/step - loss: 1.9040 - accuracy: 0.2285 - val_loss: 1.8124 - val_accuracy: 0.2892\n",
      "Epoch 5/50\n",
      "62/62 [==============================] - 21s 332ms/step - loss: 1.8620 - accuracy: 0.2499 - val_loss: 1.9084 - val_accuracy: 0.2790\n",
      "Epoch 6/50\n",
      "62/62 [==============================] - 21s 333ms/step - loss: 1.8254 - accuracy: 0.2693 - val_loss: 1.7051 - val_accuracy: 0.3401\n",
      "Epoch 7/50\n",
      "62/62 [==============================] - 20s 330ms/step - loss: 1.7734 - accuracy: 0.2830 - val_loss: 1.6987 - val_accuracy: 0.3727\n",
      "Epoch 8/50\n",
      "62/62 [==============================] - 20s 330ms/step - loss: 1.7469 - accuracy: 0.2922 - val_loss: 1.7073 - val_accuracy: 0.3381\n",
      "Epoch 9/50\n",
      "62/62 [==============================] - 21s 336ms/step - loss: 1.7368 - accuracy: 0.3039 - val_loss: 1.6369 - val_accuracy: 0.3646\n",
      "Epoch 10/50\n",
      "62/62 [==============================] - 21s 332ms/step - loss: 1.7181 - accuracy: 0.2968 - val_loss: 1.5833 - val_accuracy: 0.3829\n",
      "Epoch 11/50\n",
      "62/62 [==============================] - 20s 323ms/step - loss: 1.7278 - accuracy: 0.3055 - val_loss: 1.7145 - val_accuracy: 0.3442\n",
      "Epoch 12/50\n",
      "62/62 [==============================] - 21s 332ms/step - loss: 1.7136 - accuracy: 0.3121 - val_loss: 1.5998 - val_accuracy: 0.4053\n",
      "Epoch 13/50\n",
      "62/62 [==============================] - 21s 332ms/step - loss: 1.6807 - accuracy: 0.3223 - val_loss: 1.5655 - val_accuracy: 0.4073\n",
      "Epoch 14/50\n",
      "62/62 [==============================] - 21s 331ms/step - loss: 1.6753 - accuracy: 0.3223 - val_loss: 1.6004 - val_accuracy: 0.4114\n",
      "Epoch 15/50\n",
      "62/62 [==============================] - 20s 329ms/step - loss: 1.6575 - accuracy: 0.3371 - val_loss: 1.5356 - val_accuracy: 0.4318\n",
      "Epoch 16/50\n",
      "62/62 [==============================] - 21s 336ms/step - loss: 1.6119 - accuracy: 0.3544 - val_loss: 1.6200 - val_accuracy: 0.3829\n",
      "Epoch 17/50\n",
      "62/62 [==============================] - 21s 332ms/step - loss: 1.6538 - accuracy: 0.3468 - val_loss: 1.5160 - val_accuracy: 0.4521\n",
      "Epoch 18/50\n",
      "62/62 [==============================] - 21s 331ms/step - loss: 1.5751 - accuracy: 0.3702 - val_loss: 1.5054 - val_accuracy: 0.4460\n",
      "Epoch 19/50\n",
      "62/62 [==============================] - 21s 332ms/step - loss: 1.5724 - accuracy: 0.3896 - val_loss: 1.4263 - val_accuracy: 0.4725\n",
      "Epoch 20/50\n",
      "62/62 [==============================] - 20s 330ms/step - loss: 1.5731 - accuracy: 0.3932 - val_loss: 1.5321 - val_accuracy: 0.4379\n",
      "Epoch 21/50\n",
      "62/62 [==============================] - 21s 333ms/step - loss: 1.5301 - accuracy: 0.3988 - val_loss: 1.3898 - val_accuracy: 0.4745\n",
      "Epoch 22/50\n",
      "62/62 [==============================] - 21s 333ms/step - loss: 1.4918 - accuracy: 0.4299 - val_loss: 1.4240 - val_accuracy: 0.5010\n",
      "Epoch 23/50\n",
      "62/62 [==============================] - 20s 331ms/step - loss: 1.5095 - accuracy: 0.4238 - val_loss: 1.4823 - val_accuracy: 0.4684\n",
      "Epoch 24/50\n",
      "62/62 [==============================] - 20s 330ms/step - loss: 1.4613 - accuracy: 0.4263 - val_loss: 1.3701 - val_accuracy: 0.4786\n",
      "Epoch 25/50\n",
      "62/62 [==============================] - 21s 332ms/step - loss: 1.4665 - accuracy: 0.4314 - val_loss: 1.3257 - val_accuracy: 0.5010\n",
      "Epoch 26/50\n",
      "62/62 [==============================] - 21s 332ms/step - loss: 1.4535 - accuracy: 0.4396 - val_loss: 1.3811 - val_accuracy: 0.4725\n",
      "Epoch 27/50\n",
      "62/62 [==============================] - 21s 340ms/step - loss: 1.4515 - accuracy: 0.4345 - val_loss: 1.3123 - val_accuracy: 0.5234\n",
      "Epoch 28/50\n",
      "62/62 [==============================] - 20s 331ms/step - loss: 1.4043 - accuracy: 0.4518 - val_loss: 1.3571 - val_accuracy: 0.4949\n",
      "Epoch 29/50\n",
      "62/62 [==============================] - 21s 333ms/step - loss: 1.3909 - accuracy: 0.4554 - val_loss: 1.2676 - val_accuracy: 0.5112\n",
      "Epoch 30/50\n",
      "62/62 [==============================] - 22s 357ms/step - loss: 1.3906 - accuracy: 0.4661 - val_loss: 1.3002 - val_accuracy: 0.5234\n",
      "Epoch 31/50\n",
      "62/62 [==============================] - 21s 341ms/step - loss: 1.3756 - accuracy: 0.4697 - val_loss: 1.4189 - val_accuracy: 0.4623\n",
      "Epoch 32/50\n",
      "62/62 [==============================] - 21s 341ms/step - loss: 1.3573 - accuracy: 0.4697 - val_loss: 1.2379 - val_accuracy: 0.5193\n",
      "Epoch 33/50\n",
      "62/62 [==============================] - 21s 344ms/step - loss: 1.3674 - accuracy: 0.4544 - val_loss: 1.3219 - val_accuracy: 0.4908\n",
      "Epoch 34/50\n",
      "62/62 [==============================] - 21s 345ms/step - loss: 1.2907 - accuracy: 0.4957 - val_loss: 1.2198 - val_accuracy: 0.5255\n",
      "Epoch 35/50\n",
      "62/62 [==============================] - 21s 342ms/step - loss: 1.2609 - accuracy: 0.5089 - val_loss: 1.2020 - val_accuracy: 0.5397\n",
      "Epoch 36/50\n",
      "62/62 [==============================] - 21s 341ms/step - loss: 1.3044 - accuracy: 0.4870 - val_loss: 1.2353 - val_accuracy: 0.5193\n",
      "Epoch 37/50\n",
      "62/62 [==============================] - 21s 334ms/step - loss: 1.2721 - accuracy: 0.5186 - val_loss: 1.3036 - val_accuracy: 0.5092\n",
      "Epoch 38/50\n",
      "62/62 [==============================] - 21s 345ms/step - loss: 1.2368 - accuracy: 0.5094 - val_loss: 1.2043 - val_accuracy: 0.5499\n",
      "Epoch 39/50\n",
      "62/62 [==============================] - 20s 318ms/step - loss: 1.2192 - accuracy: 0.5227 - val_loss: 1.2593 - val_accuracy: 0.5356\n",
      "Epoch 40/50\n",
      "62/62 [==============================] - 21s 342ms/step - loss: 1.2214 - accuracy: 0.5242 - val_loss: 1.1775 - val_accuracy: 0.5479\n",
      "Epoch 41/50\n",
      "62/62 [==============================] - 21s 342ms/step - loss: 1.2102 - accuracy: 0.5288 - val_loss: 1.1924 - val_accuracy: 0.5519\n",
      "Epoch 42/50\n",
      "62/62 [==============================] - 21s 343ms/step - loss: 1.2341 - accuracy: 0.5140 - val_loss: 1.2118 - val_accuracy: 0.5438\n",
      "Epoch 43/50\n",
      "62/62 [==============================] - 21s 343ms/step - loss: 1.1852 - accuracy: 0.5258 - val_loss: 1.2430 - val_accuracy: 0.5397\n",
      "Epoch 44/50\n",
      "62/62 [==============================] - 22s 348ms/step - loss: 1.1507 - accuracy: 0.5569 - val_loss: 1.1812 - val_accuracy: 0.5560\n",
      "Epoch 45/50\n",
      "62/62 [==============================] - 21s 344ms/step - loss: 1.1252 - accuracy: 0.5569 - val_loss: 1.1150 - val_accuracy: 0.5743\n",
      "Epoch 46/50\n",
      "62/62 [==============================] - 21s 342ms/step - loss: 1.1181 - accuracy: 0.5701 - val_loss: 1.1530 - val_accuracy: 0.5642\n",
      "Epoch 47/50\n",
      "62/62 [==============================] - 21s 342ms/step - loss: 1.1239 - accuracy: 0.5640 - val_loss: 1.1964 - val_accuracy: 0.5662\n",
      "Epoch 48/50\n",
      "62/62 [==============================] - 21s 344ms/step - loss: 1.0874 - accuracy: 0.5788 - val_loss: 1.1080 - val_accuracy: 0.5866\n",
      "Epoch 49/50\n",
      "62/62 [==============================] - 21s 344ms/step - loss: 1.0740 - accuracy: 0.5880 - val_loss: 1.1148 - val_accuracy: 0.6008\n",
      "Epoch 50/50\n",
      "62/62 [==============================] - 21s 344ms/step - loss: 1.0819 - accuracy: 0.5859 - val_loss: 1.1286 - val_accuracy: 0.5947\n"
     ]
    }
   ],
   "source": [
    "model.compile(loss='categorical_crossentropy', optimizer='adam', metrics=['accuracy'])\n",
    "\n",
    "history = model.fit(\n",
    "    X_train, y_train_cat,\n",
    "    validation_data=(X_val, y_val_cat),\n",
    "    epochs=50,\n",
    "    batch_size=32\n",
    ")\n"
   ]
  },
  {
   "cell_type": "code",
   "execution_count": 25,
   "id": "8d2b9dc4-f2e0-4d3c-9edf-4e22fef371f5",
   "metadata": {},
   "outputs": [
    {
     "name": "stdout",
     "output_type": "stream",
     "text": [
      "16/16 [==============================] - 1s 69ms/step\n",
      "              precision    recall  f1-score   support\n",
      "\n",
      "       angry       0.84      0.85      0.85        75\n",
      "        calm       0.82      0.55      0.66        75\n",
      "     disgust       0.40      0.69      0.51        39\n",
      "     fearful       0.66      0.65      0.66        75\n",
      "       happy       0.68      0.68      0.68        75\n",
      "     neutral       0.00      0.00      0.00        38\n",
      "         sad       0.37      0.57      0.45        75\n",
      "   surprised       0.52      0.44      0.47        39\n",
      "\n",
      "    accuracy                           0.59       491\n",
      "   macro avg       0.54      0.55      0.53       491\n",
      "weighted avg       0.59      0.59      0.58       491\n",
      "\n"
     ]
    },
    {
     "name": "stderr",
     "output_type": "stream",
     "text": [
      "c:\\softwares\\python 3.8\\lib\\site-packages\\sklearn\\metrics\\_classification.py:1471: UndefinedMetricWarning: Precision and F-score are ill-defined and being set to 0.0 in labels with no predicted samples. Use `zero_division` parameter to control this behavior.\n",
      "  _warn_prf(average, modifier, msg_start, len(result))\n",
      "c:\\softwares\\python 3.8\\lib\\site-packages\\sklearn\\metrics\\_classification.py:1471: UndefinedMetricWarning: Precision and F-score are ill-defined and being set to 0.0 in labels with no predicted samples. Use `zero_division` parameter to control this behavior.\n",
      "  _warn_prf(average, modifier, msg_start, len(result))\n",
      "c:\\softwares\\python 3.8\\lib\\site-packages\\sklearn\\metrics\\_classification.py:1471: UndefinedMetricWarning: Precision and F-score are ill-defined and being set to 0.0 in labels with no predicted samples. Use `zero_division` parameter to control this behavior.\n",
      "  _warn_prf(average, modifier, msg_start, len(result))\n"
     ]
    },
    {
     "data": {
      "image/png": "[encoded data removed]",
      "text/plain": [
       "<Figure size 640x480 with 2 Axes>"
      ]
     },
     "metadata": {},
     "output_type": "display_data"
    }
   ],
   "source": [
    "import seaborn as sns\n",
    "from sklearn.metrics import classification_report, confusion_matrix\n",
    "import matplotlib.pyplot as plt\n",
    "\n",
    "y_pred = model.predict(X_val)\n",
    "y_pred_labels = np.argmax(y_pred, axis=1)\n",
    "\n",
    "print(classification_report(y_val_enc, y_pred_labels, target_names=le.classes_))\n",
    "\n",
    "cm = confusion_matrix(y_val_enc, y_pred_labels)\n",
    "sns.heatmap(cm, annot=True, fmt='d', xticklabels=le.classes_, yticklabels=le.classes_)\n",
    "plt.xlabel(\"Predicted\")\n",
    "plt.ylabel(\"True\")\n",
    "plt.title(\"Confusion Matrix\")\n",
    "plt.show()\n"
   ]
  },
  {
   "cell_type": "code",
   "execution_count": 26,
   "id": "2e6ffbd6-caff-428e-a1e8-b2ca45da6c8f",
   "metadata": {},
   "outputs": [],
   "source": [
    "train_df_filtered = train_df[train_df['emotion'] != 'neutral']\n",
    "val_df_filtered = val_df[val_df['emotion'] != 'neutral']"
   ]
  },
  {
   "cell_type": "code",
   "execution_count": 28,
   "id": "978e535c-138d-4014-83fa-5ca7c34188fd",
   "metadata": {},
   "outputs": [
    {
     "data": {
      "application/vnd.jupyter.widget-view+json": {
       "model_id": "1463e10135744f7e87d2151b4874ab33",
       "version_major": 2,
       "version_minor": 0
      },
      "text/plain": [
       "  0%|          | 0/1811 [00:00<?, ?it/s]"
      ]
     },
     "metadata": {},
     "output_type": "display_data"
    },
    {
     "data": {
      "application/vnd.jupyter.widget-view+json": {
       "model_id": "44fb633d235e4dfbba0c44c48a03e45f",
       "version_major": 2,
       "version_minor": 0
      },
      "text/plain": [
       "  0%|          | 0/453 [00:00<?, ?it/s]"
      ]
     },
     "metadata": {},
     "output_type": "display_data"
    }
   ],
   "source": [
    "X_train, y_train = build_cnn_dataset(train_df_filtered)\n",
    "X_val, y_val = build_cnn_dataset(val_df_filtered)\n",
    "\n",
    "# Add channel dimension\n",
    "X_train = X_train[..., np.newaxis]  # shape: (samples, 40, time_steps, 1)\n",
    "X_val = X_val[..., np.newaxis]\n"
   ]
  },
  {
   "cell_type": "code",
   "execution_count": 36,
   "id": "43fc9ba3-e114-4338-b2af-740b39856a89",
   "metadata": {},
   "outputs": [],
   "source": [
    "from sklearn.preprocessing import LabelEncoder\n",
    "from tensorflow.keras.utils import to_categorical\n",
    "\n",
    "le = LabelEncoder()\n",
    "y_train_enc = le.fit_transform(y_train)\n",
    "y_val_enc = le.transform(y_val)\n",
    "num_classes = len(le.classes_)\n",
    "\n",
    "y_train_cat = to_categorical(y_train_enc, num_classes=num_classes)\n",
    "y_val_cat = to_categorical(y_val_enc, num_classes=num_classes)\n",
    "# Save for prediction later\n",
    "emotion_classes = le.classes_\n"
   ]
  },
  {
   "cell_type": "code",
   "execution_count": 37,
   "id": "74f6d760-d2f5-4ec0-ab81-1e8a61914d37",
   "metadata": {},
   "outputs": [
    {
     "name": "stdout",
     "output_type": "stream",
     "text": [
      "Number of classes: 7\n"
     ]
    }
   ],
   "source": [
    "num_classes = len(np.unique(y_train_enc))\n",
    "print(\"Number of classes:\", num_classes)  # Should be 7"
   ]
  },
  {
   "cell_type": "code",
   "execution_count": 38,
   "id": "9257aece-8a4b-4136-ad09-edaac5c959e6",
   "metadata": {},
   "outputs": [],
   "source": [
    "from sklearn.preprocessing import StandardScaler\n",
    "\n",
    "scaler = StandardScaler()\n",
    "X_train_flat = X_train.reshape(len(X_train), -1)\n",
    "X_val_flat = X_val.reshape(len(X_val), -1)\n",
    "\n",
    "X_train_scaled = scaler.fit_transform(X_train_flat)\n",
    "X_val_scaled = scaler.transform(X_val_flat)\n",
    "\n",
    "# Reshape back to original CNN input shape\n",
    "X_train = X_train_scaled.reshape(X_train.shape)\n",
    "X_val = X_val_scaled.reshape(X_val.shape)"
   ]
  },
  {
   "cell_type": "code",
   "execution_count": 39,
   "id": "87dd9482-9d68-40ea-851d-a1870e8ed7f0",
   "metadata": {},
   "outputs": [],
   "source": [
    "from tensorflow.keras.callbacks import EarlyStopping, ReduceLROnPlateau\n",
    "\n",
    "callbacks = [\n",
    "    EarlyStopping(patience=5, restore_best_weights=True),\n",
    "    ReduceLROnPlateau(patience=3, factor=0.5)\n",
    "]"
   ]
  },
  {
   "cell_type": "code",
   "execution_count": 40,
   "id": "9fc567f6-3617-42b9-85b5-14b4a7240508",
   "metadata": {},
   "outputs": [],
   "source": [
    "input_shape = X_train.shape[1:]  # (40, time_steps, 1)\n",
    "\n",
    "model = Sequential([\n",
    "    Conv2D(32, (3, 3), activation='relu', input_shape=input_shape),\n",
    "    BatchNormalization(),\n",
    "    MaxPooling2D((2, 2)),\n",
    "    Dropout(0.3),\n",
    "\n",
    "    Conv2D(64, (3, 3), activation='relu'),\n",
    "    BatchNormalization(),\n",
    "    MaxPooling2D((2, 2)),\n",
    "    Dropout(0.3),\n",
    "\n",
    "    Flatten(),\n",
    "    Dense(128, activation='relu'),\n",
    "    Dropout(0.3),\n",
    "    Dense(num_classes, activation='softmax')\n",
    "])\n"
   ]
  },
  {
   "cell_type": "code",
   "execution_count": 42,
   "id": "847e024d-84f1-4949-beee-1e45dbf49b83",
   "metadata": {},
   "outputs": [],
   "source": [
    "model.compile(loss='categorical_crossentropy', optimizer='adam', metrics=['accuracy'])"
   ]
  },
  {
   "cell_type": "code",
   "execution_count": 43,
   "id": "caa9dbb3-d0c3-44a8-83a5-92d45da45708",
   "metadata": {},
   "outputs": [
    {
     "name": "stdout",
     "output_type": "stream",
     "text": [
      "Epoch 1/50\n",
      "57/57 [==============================] - 23s 366ms/step - loss: 2.7734 - accuracy: 0.2308 - val_loss: 7.1365 - val_accuracy: 0.2208 - lr: 0.0010\n",
      "Epoch 2/50\n",
      "57/57 [==============================] - 20s 355ms/step - loss: 1.6488 - accuracy: 0.3208 - val_loss: 18.4416 - val_accuracy: 0.1854 - lr: 0.0010\n",
      "Epoch 3/50\n",
      "57/57 [==============================] - 20s 360ms/step - loss: 1.5199 - accuracy: 0.3573 - val_loss: 19.0850 - val_accuracy: 0.1943 - lr: 0.0010\n",
      "Epoch 4/50\n",
      "57/57 [==============================] - 20s 357ms/step - loss: 1.4176 - accuracy: 0.4097 - val_loss: 14.2468 - val_accuracy: 0.2185 - lr: 0.0010\n",
      "Epoch 5/50\n",
      "57/57 [==============================] - 21s 360ms/step - loss: 1.3170 - accuracy: 0.4473 - val_loss: 7.7602 - val_accuracy: 0.3223 - lr: 5.0000e-04\n",
      "Epoch 6/50\n",
      "57/57 [==============================] - 21s 362ms/step - loss: 1.2077 - accuracy: 0.4876 - val_loss: 3.6795 - val_accuracy: 0.3731 - lr: 5.0000e-04\n",
      "Epoch 7/50\n",
      "57/57 [==============================] - 21s 365ms/step - loss: 1.1461 - accuracy: 0.5240 - val_loss: 1.6530 - val_accuracy: 0.5188 - lr: 5.0000e-04\n",
      "Epoch 8/50\n",
      "57/57 [==============================] - 20s 351ms/step - loss: 1.0491 - accuracy: 0.5555 - val_loss: 1.2033 - val_accuracy: 0.5784 - lr: 5.0000e-04\n",
      "Epoch 9/50\n",
      "57/57 [==============================] - 20s 354ms/step - loss: 1.0493 - accuracy: 0.5478 - val_loss: 1.1087 - val_accuracy: 0.6159 - lr: 5.0000e-04\n",
      "Epoch 10/50\n",
      "57/57 [==============================] - 21s 370ms/step - loss: 0.9321 - accuracy: 0.6002 - val_loss: 1.0791 - val_accuracy: 0.5982 - lr: 5.0000e-04\n",
      "Epoch 11/50\n",
      "57/57 [==============================] - 20s 355ms/step - loss: 0.8929 - accuracy: 0.6201 - val_loss: 1.0743 - val_accuracy: 0.6225 - lr: 5.0000e-04\n",
      "Epoch 12/50\n",
      "57/57 [==============================] - 20s 355ms/step - loss: 0.8644 - accuracy: 0.6405 - val_loss: 1.0318 - val_accuracy: 0.6446 - lr: 5.0000e-04\n",
      "Epoch 13/50\n",
      "57/57 [==============================] - 20s 359ms/step - loss: 0.8274 - accuracy: 0.6599 - val_loss: 1.0194 - val_accuracy: 0.6424 - lr: 5.0000e-04\n",
      "Epoch 14/50\n",
      "57/57 [==============================] - 20s 353ms/step - loss: 0.7601 - accuracy: 0.6770 - val_loss: 1.0372 - val_accuracy: 0.6534 - lr: 5.0000e-04\n",
      "Epoch 15/50\n",
      "57/57 [==============================] - 20s 355ms/step - loss: 0.7642 - accuracy: 0.6703 - val_loss: 0.9254 - val_accuracy: 0.6623 - lr: 5.0000e-04\n",
      "Epoch 16/50\n",
      "57/57 [==============================] - 20s 349ms/step - loss: 0.6948 - accuracy: 0.7051 - val_loss: 0.9507 - val_accuracy: 0.6733 - lr: 5.0000e-04\n",
      "Epoch 17/50\n",
      "57/57 [==============================] - 20s 346ms/step - loss: 0.6633 - accuracy: 0.7101 - val_loss: 0.9352 - val_accuracy: 0.6733 - lr: 5.0000e-04\n",
      "Epoch 18/50\n",
      "57/57 [==============================] - 20s 349ms/step - loss: 0.6942 - accuracy: 0.6963 - val_loss: 1.0016 - val_accuracy: 0.6600 - lr: 5.0000e-04\n",
      "Epoch 19/50\n",
      "57/57 [==============================] - 20s 358ms/step - loss: 0.6204 - accuracy: 0.7245 - val_loss: 0.9312 - val_accuracy: 0.6799 - lr: 2.5000e-04\n",
      "Epoch 20/50\n",
      "57/57 [==============================] - 21s 361ms/step - loss: 0.5980 - accuracy: 0.7311 - val_loss: 0.9572 - val_accuracy: 0.6843 - lr: 2.5000e-04\n"
     ]
    },
    {
     "data": {
      "text/plain": [
       "<keras.src.callbacks.History at 0x216630d3250>"
      ]
     },
     "execution_count": 43,
     "metadata": {},
     "output_type": "execute_result"
    }
   ],
   "source": [
    "model.fit(\n",
    "    X_train, y_train_cat,\n",
    "    validation_data=(X_val, y_val_cat),\n",
    "    epochs=50,\n",
    "    batch_size=32,\n",
    "    callbacks=callbacks,\n",
    "    verbose=1\n",
    ")"
   ]
  },
  {
   "cell_type": "code",
   "execution_count": 44,
   "id": "d6c4eb3a-a8d7-480f-a39d-71d6aaf99cf0",
   "metadata": {},
   "outputs": [
    {
     "name": "stdout",
     "output_type": "stream",
     "text": [
      "15/15 [==============================] - 1s 75ms/step\n"
     ]
    }
   ],
   "source": [
    "y_pred_probs = model.predict(X_val)\n",
    "\n",
    "# Convert to predicted class indices\n",
    "y_pred = np.argmax(y_pred_probs, axis=1)"
   ]
  },
  {
   "cell_type": "code",
   "execution_count": 45,
   "id": "cf5318b6-330c-4a4e-8c6b-068b58cef581",
   "metadata": {},
   "outputs": [
    {
     "name": "stdout",
     "output_type": "stream",
     "text": [
      "              precision    recall  f1-score   support\n",
      "\n",
      "       angry       0.79      0.79      0.79        75\n",
      "        calm       0.66      0.79      0.72        75\n",
      "     disgust       0.49      0.49      0.49        39\n",
      "     fearful       0.63      0.64      0.64        75\n",
      "       happy       0.80      0.65      0.72        75\n",
      "         sad       0.55      0.56      0.56        75\n",
      "   surprised       0.65      0.62      0.63        39\n",
      "\n",
      "    accuracy                           0.66       453\n",
      "   macro avg       0.65      0.65      0.65       453\n",
      "weighted avg       0.67      0.66      0.66       453\n",
      "\n"
     ]
    }
   ],
   "source": [
    "print(classification_report(y_val_enc, y_pred, target_names=le.classes_))"
   ]
  },
  {
   "cell_type": "code",
   "execution_count": 46,
   "id": "fe1ff293-01fa-4765-8095-b0f42b7e6cbb",
   "metadata": {},
   "outputs": [
    {
     "data": {
      "image/png": "[encoded data removed]",
      "text/plain": [
       "<Figure size 800x600 with 2 Axes>"
      ]
     },
     "metadata": {},
     "output_type": "display_data"
    }
   ],
   "source": [
    "from sklearn.metrics import confusion_matrix\n",
    "import seaborn as sns\n",
    "import matplotlib.pyplot as plt\n",
    "\n",
    "cm = confusion_matrix(y_val_enc, y_pred)\n",
    "\n",
    "plt.figure(figsize=(8, 6))\n",
    "sns.heatmap(cm, annot=True, fmt='d', cmap='Blues',\n",
    "            xticklabels=le.classes_, yticklabels=le.classes_)\n",
    "plt.xlabel(\"Predicted\")\n",
    "plt.ylabel(\"True\")\n",
    "plt.title(\"Confusion Matrix\")\n",
    "plt.show()"
   ]
  },
  {
   "cell_type": "code",
   "execution_count": 47,
   "id": "5d1aa99b-d257-4257-b6dc-74a11261623b",
   "metadata": {},
   "outputs": [
    {
     "name": "stdout",
     "output_type": "stream",
     "text": [
      "angry: 78.67% accuracy\n",
      "calm: 78.67% accuracy\n",
      "disgust: 48.72% accuracy\n",
      "fearful: 64.00% accuracy\n",
      "happy: 65.33% accuracy\n",
      "sad: 56.00% accuracy\n",
      "surprised: 61.54% accuracy\n"
     ]
    }
   ],
   "source": [
    "class_accuracy = cm.diagonal() / cm.sum(axis=1)\n",
    "for label, acc in zip(le.classes_, class_accuracy):\n",
    "    print(f\"{label}: {acc * 100:.2f}% accuracy\")"
   ]
  },
  {
   "cell_type": "code",
   "execution_count": null,
   "id": "4bc4b8d8-de55-4294-b16b-e96c6fefc6ee",
   "metadata": {},
   "outputs": [],
   "source": [
    "model.save(\"cnn_emotion_model.h5\")"
   ]
  },
  {
   "cell_type": "code",
   "execution_count": 98,
   "id": "05403d80-0c0f-4dc0-89a3-b2efad1c678a",
   "metadata": {},
   "outputs": [],
   "source": [
    "def extract_log_mel_spectrogram(file_path, sr=22050, duration=3, n_mels=128):\n",
    "    try:\n",
    "        audio, _ = librosa.load(file_path, sr=sr, duration=duration, res_type='kaiser_fast')\n",
    "\n",
    "        # Pad short audio\n",
    "        if len(audio) < sr * duration:\n",
    "            pad_width = sr * duration - len(audio)\n",
    "            audio = np.pad(audio, (0, pad_width))\n",
    "\n",
    "        # Compute mel-spectrogram\n",
    "        mel = librosa.feature.melspectrogram(y=audio, sr=sr, n_mels=n_mels)\n",
    "\n",
    "        # Convert to log scale\n",
    "        log_mel = librosa.power_to_db(mel, ref=np.max)\n",
    "\n",
    "        return log_mel  # shape: (n_mels, time_steps)\n",
    "    except Exception as e:\n",
    "        print(f\"Error processing {file_path}: {e}\")\n",
    "        return np.zeros((n_mels, 130))  # Fallback shape\n"
   ]
  },
  {
   "cell_type": "code",
   "execution_count": 100,
   "id": "101867c9-7b24-4070-81ba-5fdab54aad41",
   "metadata": {},
   "outputs": [],
   "source": [
    "def build_logmel_dataset(df):\n",
    "    X, y = [], []\n",
    "\n",
    "    for _, row in tqdm(df.iterrows(), total=len(df)):\n",
    "        features = extract_log_mel_spectrogram(row['path'])  # (128, time)\n",
    "        X.append(features)\n",
    "        y.append(row['emotion'])\n",
    "\n",
    "    return np.array(X), np.array(y)\n"
   ]
  },
  {
   "cell_type": "code",
   "execution_count": 101,
   "id": "8e85eea0-bb3a-484b-aeee-aad1dce73c02",
   "metadata": {},
   "outputs": [
    {
     "data": {
      "application/vnd.jupyter.widget-view+json": {
       "model_id": "fa39296972424664aeddfe3e268c4f07",
       "version_major": 2,
       "version_minor": 0
      },
      "text/plain": [
       "  0%|          | 0/1961 [00:00<?, ?it/s]"
      ]
     },
     "metadata": {},
     "output_type": "display_data"
    },
    {
     "data": {
      "application/vnd.jupyter.widget-view+json": {
       "model_id": "1a34fd0909fa4e57ad2e54eabdc9e443",
       "version_major": 2,
       "version_minor": 0
      },
      "text/plain": [
       "  0%|          | 0/491 [00:00<?, ?it/s]"
      ]
     },
     "metadata": {},
     "output_type": "display_data"
    }
   ],
   "source": [
    "X_train, y_train = build_logmel_dataset(train_df)\n",
    "X_val, y_val = build_logmel_dataset(val_df)\n"
   ]
  },
  {
   "cell_type": "code",
   "execution_count": 102,
   "id": "5589bcce-18a1-495d-ba4b-734444e90ac6",
   "metadata": {},
   "outputs": [],
   "source": [
    "# Add channel dimension\n",
    "X_train = X_train[..., np.newaxis]  # shape: (samples, 128, time_steps, 1)\n",
    "X_val = X_val[..., np.newaxis]\n"
   ]
  },
  {
   "cell_type": "code",
   "execution_count": 103,
   "id": "db4b7657-1466-4db8-9fa7-12270a1d4ca6",
   "metadata": {},
   "outputs": [],
   "source": [
    "from sklearn.preprocessing import LabelEncoder\n",
    "from tensorflow.keras.utils import to_categorical\n",
    "\n",
    "le = LabelEncoder()\n",
    "y_train_enc = le.fit_transform(y_train)\n",
    "y_val_enc = le.transform(y_val)\n",
    "\n",
    "y_train_cat = to_categorical(y_train_enc)\n",
    "y_val_cat = to_categorical(y_val_enc)\n"
   ]
  },
  {
   "cell_type": "code",
   "execution_count": 104,
   "id": "c00bf6d3-128e-4f07-84da-b781a21fc65b",
   "metadata": {},
   "outputs": [],
   "source": [
    "from tensorflow.keras.models import Sequential\n",
    "from tensorflow.keras.layers import Conv2D, MaxPooling2D, Dropout, Flatten, Dense, BatchNormalization\n",
    "\n",
    "input_shape = X_train.shape[1:]\n",
    "\n",
    "model = Sequential([\n",
    "    Conv2D(32, (3, 3), activation='relu', input_shape=input_shape),\n",
    "    BatchNormalization(),\n",
    "    MaxPooling2D((2, 2)),\n",
    "    Dropout(0.3),\n",
    "\n",
    "    Conv2D(64, (3, 3), activation='relu'),\n",
    "    BatchNormalization(),\n",
    "    MaxPooling2D((2, 2)),\n",
    "    Dropout(0.3),\n",
    "\n",
    "    Conv2D(128, (3, 3), activation='relu'),\n",
    "    BatchNormalization(),\n",
    "    MaxPooling2D((2, 2)),\n",
    "    Dropout(0.3),\n",
    "\n",
    "    Flatten(),\n",
    "    Dense(256, activation='relu'),\n",
    "    Dropout(0.4),\n",
    "    Dense(y_train_cat.shape[1], activation='softmax')\n",
    "])\n"
   ]
  },
  {
   "cell_type": "code",
   "execution_count": 105,
   "id": "7023b5ea-97e6-430d-81b4-6d93bf2096ca",
   "metadata": {},
   "outputs": [
    {
     "name": "stdout",
     "output_type": "stream",
     "text": [
      "Epoch 1/50\n",
      "62/62 [==============================] - 88s 1s/step - loss: 4.4760 - accuracy: 0.1632 - val_loss: 4.0403 - val_accuracy: 0.1405 - lr: 0.0010\n",
      "Epoch 2/50\n",
      "62/62 [==============================] - 81s 1s/step - loss: 1.9875 - accuracy: 0.1892 - val_loss: 2.1350 - val_accuracy: 0.1242 - lr: 0.0010\n",
      "Epoch 3/50\n",
      "62/62 [==============================] - 84s 1s/step - loss: 1.9582 - accuracy: 0.2075 - val_loss: 2.6028 - val_accuracy: 0.2098 - lr: 0.0010\n",
      "Epoch 4/50\n",
      "62/62 [==============================] - 84s 1s/step - loss: 1.8895 - accuracy: 0.2371 - val_loss: 1.9913 - val_accuracy: 0.2403 - lr: 0.0010\n",
      "Epoch 5/50\n",
      "62/62 [==============================] - 85s 1s/step - loss: 1.8230 - accuracy: 0.2560 - val_loss: 2.7080 - val_accuracy: 0.1813 - lr: 0.0010\n",
      "Epoch 6/50\n",
      "62/62 [==============================] - 84s 1s/step - loss: 1.7962 - accuracy: 0.2565 - val_loss: 2.4030 - val_accuracy: 0.2118 - lr: 0.0010\n",
      "Epoch 7/50\n",
      "62/62 [==============================] - 84s 1s/step - loss: 1.7460 - accuracy: 0.2851 - val_loss: 3.3760 - val_accuracy: 0.1670 - lr: 0.0010\n",
      "Epoch 8/50\n",
      "62/62 [==============================] - 84s 1s/step - loss: 1.6833 - accuracy: 0.2958 - val_loss: 4.7435 - val_accuracy: 0.1527 - lr: 5.0000e-04\n",
      "Epoch 9/50\n",
      "62/62 [==============================] - 85s 1s/step - loss: 1.5908 - accuracy: 0.3631 - val_loss: 4.0286 - val_accuracy: 0.1914 - lr: 5.0000e-04\n"
     ]
    },
    {
     "data": {
      "text/plain": [
       "<keras.src.callbacks.History at 0x21667444f40>"
      ]
     },
     "execution_count": 105,
     "metadata": {},
     "output_type": "execute_result"
    }
   ],
   "source": [
    "model.compile(optimizer='adam', loss='categorical_crossentropy', metrics=['accuracy'])\n",
    "\n",
    "from tensorflow.keras.callbacks import ReduceLROnPlateau, EarlyStopping\n",
    "\n",
    "callbacks = [\n",
    "    ReduceLROnPlateau(monitor='val_loss', factor=0.5, patience=3),\n",
    "    EarlyStopping(monitor='val_loss', patience=5, restore_best_weights=True)\n",
    "]\n",
    "\n",
    "model.fit(\n",
    "    X_train, y_train_cat,\n",
    "    validation_data=(X_val, y_val_cat),\n",
    "    epochs=50,\n",
    "    batch_size=32,\n",
    "    callbacks=callbacks\n",
    ")\n"
   ]
  },
  {
   "cell_type": "code",
   "execution_count": 106,
   "id": "598a1635-1675-4f5e-b959-785474e4a3a1",
   "metadata": {},
   "outputs": [
    {
     "name": "stdout",
     "output_type": "stream",
     "text": [
      "16/16 [==============================] - 5s 274ms/step\n"
     ]
    },
    {
     "name": "stderr",
     "output_type": "stream",
     "text": [
      "c:\\softwares\\python 3.8\\lib\\site-packages\\sklearn\\metrics\\_classification.py:1471: UndefinedMetricWarning: Precision and F-score are ill-defined and being set to 0.0 in labels with no predicted samples. Use `zero_division` parameter to control this behavior.\n",
      "  _warn_prf(average, modifier, msg_start, len(result))\n",
      "c:\\softwares\\python 3.8\\lib\\site-packages\\sklearn\\metrics\\_classification.py:1471: UndefinedMetricWarning: Precision and F-score are ill-defined and being set to 0.0 in labels with no predicted samples. Use `zero_division` parameter to control this behavior.\n",
      "  _warn_prf(average, modifier, msg_start, len(result))\n",
      "c:\\softwares\\python 3.8\\lib\\site-packages\\sklearn\\metrics\\_classification.py:1471: UndefinedMetricWarning: Precision and F-score are ill-defined and being set to 0.0 in labels with no predicted samples. Use `zero_division` parameter to control this behavior.\n",
      "  _warn_prf(average, modifier, msg_start, len(result))\n"
     ]
    },
    {
     "name": "stdout",
     "output_type": "stream",
     "text": [
      "              precision    recall  f1-score   support\n",
      "\n",
      "       angry       0.30      0.76      0.44        75\n",
      "        calm       0.17      0.03      0.05        75\n",
      "     disgust       0.13      0.21      0.16        39\n",
      "     fearful       0.24      0.45      0.31        75\n",
      "       happy       0.28      0.16      0.20        75\n",
      "     neutral       0.00      0.00      0.00        38\n",
      "         sad       0.29      0.05      0.09        75\n",
      "   surprised       0.03      0.03      0.03        39\n",
      "\n",
      "    accuracy                           0.24       491\n",
      "   macro avg       0.18      0.21      0.16       491\n",
      "weighted avg       0.21      0.24      0.18       491\n",
      "\n"
     ]
    },
    {
     "data": {
      "image/png": "[encoded data removed]",
      "text/plain": [
       "<Figure size 640x480 with 2 Axes>"
      ]
     },
     "metadata": {},
     "output_type": "display_data"
    }
   ],
   "source": [
    "from sklearn.metrics import classification_report, confusion_matrix\n",
    "import seaborn as sns\n",
    "\n",
    "y_pred = model.predict(X_val)\n",
    "y_pred_classes = np.argmax(y_pred, axis=1)\n",
    "\n",
    "print(classification_report(y_val_enc, y_pred_classes, target_names=le.classes_))\n",
    "\n",
    "cm = confusion_matrix(y_val_enc, y_pred_classes)\n",
    "sns.heatmap(cm, annot=True, fmt='d', xticklabels=le.classes_, yticklabels=le.classes_)\n",
    "plt.title(\"Confusion Matrix\")\n",
    "plt.xlabel(\"Predicted\")\n",
    "plt.ylabel(\"True\")\n",
    "plt.show()\n"
   ]
  },
  {
   "cell_type": "code",
   "execution_count": 107,
   "id": "12256a8c-10c8-44d0-93c0-6371508288c1",
   "metadata": {},
   "outputs": [],
   "source": [
    "df_no_neutral = df[df['emotion'] != 'neutral'].copy().reset_index(drop=True)\n"
   ]
  },
  {
   "cell_type": "code",
   "execution_count": 108,
   "id": "2f69a302-3434-4f8d-b3cd-9aa2c3d19f48",
   "metadata": {},
   "outputs": [],
   "source": [
    "from sklearn.model_selection import train_test_split\n",
    "\n",
    "train_df, val_df = train_test_split(\n",
    "    df_no_neutral,\n",
    "    test_size=0.2,\n",
    "    stratify=df_no_neutral['emotion'],\n",
    "    random_state=42\n",
    ")\n"
   ]
  },
  {
   "cell_type": "code",
   "execution_count": 109,
   "id": "8c26eb22-d904-4ed4-929a-8e692fe26c54",
   "metadata": {},
   "outputs": [],
   "source": [
    "def extract_log_mel_fixed(file_path, sr=22050, duration=3, n_mels=128, fixed_frames=128):\n",
    "    try:\n",
    "        audio, _ = librosa.load(file_path, sr=sr, duration=duration, res_type='kaiser_fast')\n",
    "\n",
    "        if len(audio) < sr * duration:\n",
    "            pad_width = sr * duration - len(audio)\n",
    "            audio = np.pad(audio, (0, pad_width))\n",
    "\n",
    "        mel = librosa.feature.melspectrogram(y=audio, sr=sr, n_mels=n_mels, hop_length=512)\n",
    "        log_mel = librosa.power_to_db(mel)\n",
    "\n",
    "        # Force fixed shape\n",
    "        if log_mel.shape[1] < fixed_frames:\n",
    "            pad_width = fixed_frames - log_mel.shape[1]\n",
    "            log_mel = np.pad(log_mel, ((0, 0), (0, pad_width)))\n",
    "        else:\n",
    "            log_mel = log_mel[:, :fixed_frames]\n",
    "\n",
    "        return log_mel\n",
    "    except Exception as e:\n",
    "        print(f\"Error with {file_path}: {e}\")\n",
    "        return np.zeros((n_mels, fixed_frames))\n"
   ]
  },
  {
   "cell_type": "code",
   "execution_count": 110,
   "id": "c3a5b61c-0060-4e2b-aaa4-ee7a3e2a9951",
   "metadata": {},
   "outputs": [],
   "source": [
    "def build_dataset(df):\n",
    "    X, y = [], []\n",
    "\n",
    "    for _, row in tqdm(df.iterrows(), total=len(df)):\n",
    "        feat = extract_log_mel_fixed(row['path'])\n",
    "        X.append(feat)\n",
    "        y.append(row['emotion'])\n",
    "\n",
    "    return np.array(X), np.array(y)\n"
   ]
  },
  {
   "cell_type": "code",
   "execution_count": 111,
   "id": "dbb59667-e4d5-480b-b706-f28f5363e2a5",
   "metadata": {},
   "outputs": [
    {
     "data": {
      "application/vnd.jupyter.widget-view+json": {
       "model_id": "5fa12bf5d5c14f9da8d0182c43c8344a",
       "version_major": 2,
       "version_minor": 0
      },
      "text/plain": [
       "  0%|          | 0/1811 [00:00<?, ?it/s]"
      ]
     },
     "metadata": {},
     "output_type": "display_data"
    },
    {
     "data": {
      "application/vnd.jupyter.widget-view+json": {
       "model_id": "2edeb139e9c040e291619e3687d689ff",
       "version_major": 2,
       "version_minor": 0
      },
      "text/plain": [
       "  0%|          | 0/453 [00:00<?, ?it/s]"
      ]
     },
     "metadata": {},
     "output_type": "display_data"
    }
   ],
   "source": [
    "X_train, y_train = build_dataset(train_df)\n",
    "X_val, y_val = build_dataset(val_df)\n"
   ]
  },
  {
   "cell_type": "code",
   "execution_count": 112,
   "id": "5bae10f7-415b-4bc0-b697-9c707925389a",
   "metadata": {},
   "outputs": [],
   "source": [
    "# Add channel dimension\n",
    "X_train = X_train[..., np.newaxis]  # (samples, 128, 128, 1)\n",
    "X_val = X_val[..., np.newaxis]\n",
    "\n",
    "# Encode labels\n",
    "from sklearn.preprocessing import LabelEncoder\n",
    "from tensorflow.keras.utils import to_categorical\n",
    "\n",
    "le = LabelEncoder()\n",
    "y_train_enc = le.fit_transform(y_train)\n",
    "y_val_enc = le.transform(y_val)\n",
    "\n",
    "y_train_cat = to_categorical(y_train_enc)\n",
    "y_val_cat = to_categorical(y_val_enc)\n"
   ]
  },
  {
   "cell_type": "code",
   "execution_count": 113,
   "id": "97a68f63-e08d-4699-83a9-b51189de92d8",
   "metadata": {},
   "outputs": [],
   "source": [
    "input_shape = X_train.shape[1:]  \n",
    "\n",
    "\n",
    "model = Sequential([\n",
    "    Conv2D(32, (3, 3), activation='relu', padding='same', input_shape=input_shape),\n",
    "    BatchNormalization(),\n",
    "    MaxPooling2D((2, 2)),\n",
    "    Dropout(0.3),\n",
    "\n",
    "    Conv2D(64, (3, 3), activation='relu', padding='same'),\n",
    "    BatchNormalization(),\n",
    "    MaxPooling2D((2, 2)),\n",
    "    Dropout(0.3),\n",
    "\n",
    "    Conv2D(128, (3, 3), activation='relu', padding='same'),\n",
    "    BatchNormalization(),\n",
    "    MaxPooling2D((2, 2)),\n",
    "    Dropout(0.3),\n",
    "\n",
    "    Flatten(),\n",
    "    Dense(256, activation='relu'),\n",
    "    Dropout(0.4),\n",
    "    Dense(y_train_cat.shape[1], activation='softmax')  \n",
    "])"
   ]
  },
  {
   "cell_type": "code",
   "execution_count": 115,
   "id": "69be8a15-a980-494f-942c-dbeec05b3b0e",
   "metadata": {},
   "outputs": [],
   "source": [
    "from tensorflow.keras.optimizers import Adam\n",
    "from tensorflow.keras.callbacks import ReduceLROnPlateau, EarlyStopping\n",
    "\n",
    "model.compile(\n",
    "    optimizer=Adam(learning_rate=0.0005),\n",
    "    loss='categorical_crossentropy',\n",
    "    metrics=['accuracy']\n",
    ")\n",
    "\n",
    "# Callbacks\n",
    "callbacks = [\n",
    "    ReduceLROnPlateau(monitor='val_loss', factor=0.5, patience=3, verbose=1),\n",
    "    EarlyStopping(monitor='val_loss', patience=5, restore_best_weights=True, verbose=1)\n",
    "]"
   ]
  },
  {
   "cell_type": "code",
   "execution_count": 116,
   "id": "d999355b-48c1-4dd4-b39a-62aaae1ceecb",
   "metadata": {},
   "outputs": [
    {
     "name": "stdout",
     "output_type": "stream",
     "text": [
      "Epoch 1/50\n",
      "57/57 [==============================] - 92s 2s/step - loss: 3.8020 - accuracy: 0.2352 - val_loss: 2.5400 - val_accuracy: 0.1611 - lr: 5.0000e-04\n",
      "Epoch 2/50\n",
      "57/57 [==============================] - 87s 2s/step - loss: 1.6593 - accuracy: 0.2943 - val_loss: 1.7421 - val_accuracy: 0.3179 - lr: 5.0000e-04\n",
      "Epoch 3/50\n",
      "57/57 [==============================] - 89s 2s/step - loss: 1.5852 - accuracy: 0.3263 - val_loss: 1.7221 - val_accuracy: 0.3024 - lr: 5.0000e-04\n",
      "Epoch 4/50\n",
      "57/57 [==============================] - 88s 2s/step - loss: 1.5276 - accuracy: 0.3479 - val_loss: 1.6228 - val_accuracy: 0.3488 - lr: 5.0000e-04\n",
      "Epoch 5/50\n",
      "57/57 [==============================] - 86s 2s/step - loss: 1.4950 - accuracy: 0.3849 - val_loss: 1.4084 - val_accuracy: 0.4790 - lr: 5.0000e-04\n",
      "Epoch 6/50\n",
      "57/57 [==============================] - 88s 2s/step - loss: 1.3926 - accuracy: 0.4042 - val_loss: 1.4539 - val_accuracy: 0.4349 - lr: 5.0000e-04\n",
      "Epoch 7/50\n",
      "57/57 [==============================] - 87s 2s/step - loss: 1.3896 - accuracy: 0.4103 - val_loss: 1.3803 - val_accuracy: 0.4768 - lr: 5.0000e-04\n",
      "Epoch 8/50\n",
      "57/57 [==============================] - 88s 2s/step - loss: 1.3532 - accuracy: 0.4340 - val_loss: 1.3347 - val_accuracy: 0.4945 - lr: 5.0000e-04\n",
      "Epoch 9/50\n",
      "57/57 [==============================] - 88s 2s/step - loss: 1.2792 - accuracy: 0.4666 - val_loss: 1.2578 - val_accuracy: 0.4989 - lr: 5.0000e-04\n",
      "Epoch 10/50\n",
      "57/57 [==============================] - 88s 2s/step - loss: 1.2345 - accuracy: 0.4727 - val_loss: 1.4129 - val_accuracy: 0.5166 - lr: 5.0000e-04\n",
      "Epoch 11/50\n",
      "57/57 [==============================] - 86s 2s/step - loss: 1.1799 - accuracy: 0.5108 - val_loss: 1.2429 - val_accuracy: 0.5077 - lr: 5.0000e-04\n",
      "Epoch 12/50\n",
      "57/57 [==============================] - 88s 2s/step - loss: 1.1611 - accuracy: 0.5064 - val_loss: 1.2037 - val_accuracy: 0.5784 - lr: 5.0000e-04\n",
      "Epoch 13/50\n",
      "57/57 [==============================] - 88s 2s/step - loss: 1.0807 - accuracy: 0.5605 - val_loss: 1.1179 - val_accuracy: 0.5695 - lr: 5.0000e-04\n",
      "Epoch 14/50\n",
      "57/57 [==============================] - 88s 2s/step - loss: 1.0315 - accuracy: 0.5732 - val_loss: 1.2470 - val_accuracy: 0.5850 - lr: 5.0000e-04\n",
      "Epoch 15/50\n",
      "57/57 [==============================] - 88s 2s/step - loss: 0.9865 - accuracy: 0.5958 - val_loss: 1.3689 - val_accuracy: 0.5099 - lr: 5.0000e-04\n",
      "Epoch 16/50\n",
      "57/57 [==============================] - ETA: 0s - loss: 0.9182 - accuracy: 0.6168\n",
      "Epoch 16: ReduceLROnPlateau reducing learning rate to 0.0002500000118743628.\n",
      "57/57 [==============================] - 88s 2s/step - loss: 0.9182 - accuracy: 0.6168 - val_loss: 2.1082 - val_accuracy: 0.4967 - lr: 5.0000e-04\n",
      "Epoch 17/50\n",
      "57/57 [==============================] - 88s 2s/step - loss: 0.8227 - accuracy: 0.6632 - val_loss: 1.0034 - val_accuracy: 0.6623 - lr: 2.5000e-04\n",
      "Epoch 18/50\n",
      "57/57 [==============================] - 89s 2s/step - loss: 0.7728 - accuracy: 0.6847 - val_loss: 1.1857 - val_accuracy: 0.6424 - lr: 2.5000e-04\n",
      "Epoch 19/50\n",
      "57/57 [==============================] - 88s 2s/step - loss: 0.7145 - accuracy: 0.7140 - val_loss: 1.1882 - val_accuracy: 0.6049 - lr: 2.5000e-04\n",
      "Epoch 20/50\n",
      "57/57 [==============================] - 87s 2s/step - loss: 0.6881 - accuracy: 0.7195 - val_loss: 0.9888 - val_accuracy: 0.6843 - lr: 2.5000e-04\n",
      "Epoch 21/50\n",
      "57/57 [==============================] - 87s 2s/step - loss: 0.6632 - accuracy: 0.7383 - val_loss: 0.9634 - val_accuracy: 0.6909 - lr: 2.5000e-04\n",
      "Epoch 22/50\n",
      "57/57 [==============================] - 88s 2s/step - loss: 0.6569 - accuracy: 0.7327 - val_loss: 0.9816 - val_accuracy: 0.6799 - lr: 2.5000e-04\n",
      "Epoch 23/50\n",
      "57/57 [==============================] - 88s 2s/step - loss: 0.6062 - accuracy: 0.7615 - val_loss: 0.8592 - val_accuracy: 0.7086 - lr: 2.5000e-04\n",
      "Epoch 24/50\n",
      "57/57 [==============================] - 88s 2s/step - loss: 0.5730 - accuracy: 0.7703 - val_loss: 0.7999 - val_accuracy: 0.7263 - lr: 2.5000e-04\n",
      "Epoch 25/50\n",
      "57/57 [==============================] - 88s 2s/step - loss: 0.5618 - accuracy: 0.7697 - val_loss: 1.0583 - val_accuracy: 0.6887 - lr: 2.5000e-04\n",
      "Epoch 26/50\n",
      "57/57 [==============================] - 87s 2s/step - loss: 0.5409 - accuracy: 0.7874 - val_loss: 0.9001 - val_accuracy: 0.7219 - lr: 2.5000e-04\n",
      "Epoch 27/50\n",
      "57/57 [==============================] - 87s 2s/step - loss: 0.5102 - accuracy: 0.7946 - val_loss: 0.7592 - val_accuracy: 0.7726 - lr: 2.5000e-04\n",
      "Epoch 28/50\n",
      "57/57 [==============================] - 89s 2s/step - loss: 0.4839 - accuracy: 0.8073 - val_loss: 1.7267 - val_accuracy: 0.5850 - lr: 2.5000e-04\n",
      "Epoch 29/50\n",
      "57/57 [==============================] - 87s 2s/step - loss: 0.4528 - accuracy: 0.8200 - val_loss: 1.1064 - val_accuracy: 0.6976 - lr: 2.5000e-04\n",
      "Epoch 30/50\n",
      "57/57 [==============================] - ETA: 0s - loss: 0.4431 - accuracy: 0.8277\n",
      "Epoch 30: ReduceLROnPlateau reducing learning rate to 0.0001250000059371814.\n",
      "57/57 [==============================] - 87s 2s/step - loss: 0.4431 - accuracy: 0.8277 - val_loss: 0.9209 - val_accuracy: 0.7307 - lr: 2.5000e-04\n",
      "Epoch 31/50\n",
      "57/57 [==============================] - 86s 2s/step - loss: 0.4159 - accuracy: 0.8299 - val_loss: 1.0392 - val_accuracy: 0.6954 - lr: 1.2500e-04\n",
      "Epoch 32/50\n",
      "57/57 [==============================] - ETA: 0s - loss: 0.3618 - accuracy: 0.8537Restoring model weights from the end of the best epoch: 27.\n",
      "57/57 [==============================] - 88s 2s/step - loss: 0.3618 - accuracy: 0.8537 - val_loss: 0.8173 - val_accuracy: 0.7439 - lr: 1.2500e-04\n",
      "Epoch 32: early stopping\n"
     ]
    }
   ],
   "source": [
    "history = model.fit(\n",
    "    X_train, y_train_cat,\n",
    "    validation_data=(X_val, y_val_cat),\n",
    "    epochs=50,\n",
    "    batch_size=32,\n",
    "    callbacks=callbacks,\n",
    "    verbose=1\n",
    ")"
   ]
  },
  {
   "cell_type": "code",
   "execution_count": 118,
   "id": "b2d3f4c6-0aaa-4cbe-8973-7899d384733f",
   "metadata": {},
   "outputs": [
    {
     "name": "stdout",
     "output_type": "stream",
     "text": [
      "15/15 [==============================] - 5s 308ms/step\n",
      "Classification Report:\n",
      "              precision    recall  f1-score   support\n",
      "\n",
      "       angry       0.89      0.83      0.86        75\n",
      "        calm       0.89      0.79      0.84        75\n",
      "     disgust       0.59      0.82      0.69        39\n",
      "     fearful       0.72      0.85      0.78        75\n",
      "       happy       0.80      0.63      0.70        75\n",
      "         sad       0.71      0.76      0.74        75\n",
      "   surprised       0.83      0.74      0.78        39\n",
      "\n",
      "    accuracy                           0.77       453\n",
      "   macro avg       0.78      0.77      0.77       453\n",
      "weighted avg       0.79      0.77      0.77       453\n",
      "\n"
     ]
    },
    {
     "data": {
      "image/png": "[encoded data removed]",
      "text/plain": [
       "<Figure size 800x600 with 2 Axes>"
      ]
     },
     "metadata": {},
     "output_type": "display_data"
    },
    {
     "name": "stdout",
     "output_type": "stream",
     "text": [
      "✅ Final Accuracy: 77.26%\n",
      "✅ Final Macro-Averaged F1 Score: 76.88%\n"
     ]
    }
   ],
   "source": [
    "from sklearn.metrics import classification_report, confusion_matrix, accuracy_score, f1_score\n",
    "import seaborn as sns\n",
    "import matplotlib.pyplot as plt\n",
    "import numpy as np\n",
    "\n",
    "# Predictions\n",
    "y_pred_probs = model.predict(X_val)\n",
    "y_pred = np.argmax(y_pred_probs, axis=1)\n",
    "\n",
    "# Accuracy and F1 Score\n",
    "accuracy = accuracy_score(y_val_enc, y_pred)\n",
    "macro_f1 = f1_score(y_val_enc, y_pred, average='macro')\n",
    "\n",
    "# Classification report\n",
    "print(\"Classification Report:\")\n",
    "print(classification_report(y_val_enc, y_pred, target_names=le.classes_))\n",
    "\n",
    "# Confusion matrix\n",
    "cm = confusion_matrix(y_val_enc, y_pred)\n",
    "plt.figure(figsize=(8, 6))\n",
    "sns.heatmap(cm, annot=True, fmt='d', xticklabels=le.classes_, yticklabels=le.classes_, cmap='Blues')\n",
    "plt.title(\"Confusion Matrix\")\n",
    "plt.xlabel(\"Predicted\")\n",
    "plt.ylabel(\"True\")\n",
    "plt.tight_layout()\n",
    "plt.show()\n",
    "\n",
    "\n",
    "print(f\"✅ Final Accuracy: {accuracy * 100:.2f}%\")\n",
    "print(f\"✅ Final Macro-Averaged F1 Score: {macro_f1 * 100:.2f}%\")\n"
   ]
  },
  {
   "cell_type": "code",
   "execution_count": 119,
   "id": "9fd426a1-e76e-4a70-a344-dd73b8dd4341",
   "metadata": {},
   "outputs": [
    {
     "name": "stderr",
     "output_type": "stream",
     "text": [
      "c:\\softwares\\python 3.8\\lib\\site-packages\\keras\\src\\engine\\training.py:3000: UserWarning: You are saving your model as an HDF5 file via `model.save()`. This file format is considered legacy. We recommend using instead the native Keras format, e.g. `model.save('my_model.keras')`.\n",
      "  saving_api.save_model(\n"
     ]
    }
   ],
   "source": [
    "model.save(\"emotion_cnn_mel.h5\")"
   ]
  },
  {
   "cell_type": "code",
   "execution_count": 120,
   "id": "ce8c238e-748a-4d97-a537-0e4a45f5056d",
   "metadata": {},
   "outputs": [],
   "source": [
    "model.save(\"emotion_cnn_mel.keras\")"
   ]
  },
  {
   "cell_type": "code",
   "execution_count": 121,
   "id": "a284b14f-3525-4f56-9fc1-0aeac94be62c",
   "metadata": {},
   "outputs": [
    {
     "data": {
      "text/plain": [
       "['label_encoder.pkl']"
      ]
     },
     "execution_count": 121,
     "metadata": {},
     "output_type": "execute_result"
    }
   ],
   "source": [
    "import joblib\n",
    "\n",
    "joblib.dump(le, \"label_encoder.pkl\")"
   ]
  },
  {
   "cell_type": "code",
   "execution_count": null,
   "id": "21ae2755-41e5-4f8f-b3e2-fff4d9f4ed40",
   "metadata": {},
   "outputs": [],
   "source": []
  }
 ],
 "metadata": {
  "kernelspec": {
   "display_name": "Python 3 (ipykernel)",
   "language": "python",
   "name": "python3"
  },
  "language_info": {
   "codemirror_mode": {
    "name": "ipython",
    "version": 3
   },
   "file_extension": ".py",
   "mimetype": "text/x-python",
   "name": "python",
   "nbconvert_exporter": "python",
   "pygments_lexer": "ipython3",
   "version": "3.8.0"
  }
 },
 "nbformat": 4,
 "nbformat_minor": 5
}
